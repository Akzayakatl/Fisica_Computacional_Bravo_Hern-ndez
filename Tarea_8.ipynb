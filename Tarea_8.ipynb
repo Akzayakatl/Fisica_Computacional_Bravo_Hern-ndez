{
 "cells": [
  {
   "cell_type": "markdown",
   "metadata": {},
   "source": [
    "# Diferencias finitas\n",
    "\n",
    "### Ejercicio 1\n",
    "\n",
    "Escribe una función derivadaNumerica que reciba: una función $f\\colon \\mathbb{R}\\mapsto\\mathbb{R}$, un punto $x_0\\in\\mathbb{R}$ y un número $h\\in\\mathbb{R}$. Esta función deberá calcular una aproximación a la derivada utilizando la definición indicada arriba ignorando la parte del límite. Es decir, algo como: derivada_numerica(f,x,h)."
   ]
  },
  {
   "cell_type": "code",
   "execution_count": 5,
   "metadata": {
    "collapsed": false
   },
   "outputs": [
    {
     "data": {
      "text/plain": [
       "derivada_numerica (generic function with 1 method)"
      ]
     },
     "execution_count": 5,
     "metadata": {},
     "output_type": "execute_result"
    }
   ],
   "source": [
    "function derivada_numerica(f,x,h)\n",
    "    \n",
    "    y = (f(x+h) - f(x))/h\n",
    "    \n",
    "    return y\n",
    "end"
   ]
  },
  {
   "cell_type": "code",
   "execution_count": 6,
   "metadata": {
    "collapsed": false
   },
   "outputs": [
    {
     "data": {
      "text/plain": [
       "-0.483805424462147"
      ]
     },
     "execution_count": 6,
     "metadata": {},
     "output_type": "execute_result"
    }
   ],
   "source": [
    "derivada_numerica(cos,0.5,0.01)"
   ]
  },
  {
   "cell_type": "code",
   "execution_count": 8,
   "metadata": {
    "collapsed": false
   },
   "outputs": [
    {
     "data": {
      "text/plain": [
       "-0.479864249944395"
      ]
     },
     "execution_count": 8,
     "metadata": {},
     "output_type": "execute_result"
    }
   ],
   "source": [
    "derivada_numerica(cos,0.5,0.001)"
   ]
  },
  {
   "cell_type": "code",
   "execution_count": 7,
   "metadata": {
    "collapsed": false
   },
   "outputs": [
    {
     "data": {
      "text/plain": [
       "-0.479425538604203"
      ]
     },
     "execution_count": 7,
     "metadata": {},
     "output_type": "execute_result"
    }
   ],
   "source": [
    "-sin(0.5)"
   ]
  },
  {
   "cell_type": "markdown",
   "metadata": {},
   "source": [
    "### Ejercicio 7\n",
    "\n",
    "Explotar la relación $\\delta_h=\\Delta_h-\\Delta_{-h}$, donde $\\delta_h:f(x)\\mapsto f(x+h)-f(x-h)$, para encontrar cual es la función $\\theta$ que relaciona a $\\delta_h$ con el operador derivada exacta, es decir: $$\\delta_h=\\theta\\left(h\\left. \\frac{d}{d\\xi}\\right|_{\\xi=x}\\right).$$\n",
    "Una vez que la encuentren, despejen $\\left. \\frac{d}{d\\xi}\\right|_{\\xi=x}$ y calculen la serie de Taylor de manera similar a lo mostrado en las ecuaciones 3 y 4."
   ]
  },
  {
   "cell_type": "markdown",
   "metadata": {
    "collapsed": true
   },
   "source": [
    "Tenemos que expandiendo en serie de taylor:\n",
    "$$ f(x+h) = \\sum^{\\infty}_{n=1} \\frac{h^n}{n!} \\left.\\frac{d^n}{dx^n}\\right|_{x=\\xi} $$\n",
    "\n",
    "$$ f(x-h) = \\sum^{\\infty}_{n=1} \\frac{(-h)^n}{n!} \\left.\\frac{d^n}{dx^n}\\right|_{x=\\xi} $$\n",
    "\n",
    "Así que\n",
    "\n",
    "$$ \\delta_h = f(x+h) - f(x-h)= \\sum^{\\infty}_{n=1} \\frac{h^n}{n!} \\left.\\frac{d^n}{dx^n}\\right|_{x=\\xi} - \\sum^{\\infty}_{n=1} \\frac{(-h)^n}{n!} \\left.\\frac{d^n}{dx^n}\\right|_{x=\\xi}$$\n",
    "\n",
    "$$= 1 + \\sum^{\\infty}_{n=1} \\frac{h^n}{n!} \\left.\\frac{d^n}{dx^n}\\right|_{x=\\xi} - \\left(1+ \\sum^{\\infty}_{n=1} \\frac{(-h)^n}{n!} \\left.\\frac{d^n}{dx^n}\\right|_{x=\\xi}\\right)$$\n",
    "\n",
    "$$= \\sum^{\\infty}_{n=0} \\frac{h^n}{n!} \\left.\\frac{d^n}{dx^n}\\right|_{x=\\xi} - \\sum^{\\infty}_{n=0} \\frac{(-h)^n}{n!} \\left.\\frac{d^n}{dx^n}\\right|_{x=\\xi} $$\n",
    "\n",
    "$$= e^{h^n\\left.\\frac{d^n}{dx^n}\\right|_{x=\\xi}}  - e^{-\\left(h^n\\left.\\frac{d^n}{dx^n}\\right|_{x=\\xi}\\right)}$$\n",
    "\n",
    "$$= 2\\sinh\\left(h^n\\left.\\frac{d^n}{dx^n}\\right|_{x=\\xi}\\right)$$\n",
    "\n",
    "Por lo tanto,\n",
    "\n",
    "$$\\theta(x) = 2\\sinh(x)$$"
   ]
  }
 ],
 "metadata": {
  "kernelspec": {
   "display_name": "Julia 0.6.0",
   "language": "julia",
   "name": "julia-0.6"
  },
  "language_info": {
   "file_extension": ".jl",
   "mimetype": "application/julia",
   "name": "julia",
   "version": "0.6.0"
  }
 },
 "nbformat": 4,
 "nbformat_minor": 2
}
