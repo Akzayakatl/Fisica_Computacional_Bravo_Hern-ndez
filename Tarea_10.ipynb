{
 "cells": [
  {
   "cell_type": "markdown",
   "metadata": {},
   "source": [
    "Implementar la serie de Taylor de orden mayor para la derivada simétrica:"
   ]
  },
  {
   "cell_type": "code",
   "execution_count": 2,
   "metadata": {
    "collapsed": true
   },
   "outputs": [],
   "source": [
    "using SymPy"
   ]
  },
  {
   "cell_type": "code",
   "execution_count": 3,
   "metadata": {
    "collapsed": true
   },
   "outputs": [],
   "source": [
    "# Definimos las mismas funciones del notebook pero ahora para la derivada simétrica:\n",
    "\n",
    "function coeff_Taylor_Log(i)\n",
    "x=Sym(\"x\");\n",
    "h=Sym(\"h\");\n",
    "N(subs(diff(log(x+1.0),x,i)/factorial(Float64(i)),x=>0))\n",
    "end;\n",
    "\n",
    "function coeff_Taylor_Log_rational(i)\n",
    "    x=Sym(\"x\");\n",
    "    h=Sym(\"h\");\n",
    "    subs(diff(log(x+1),x,i)/factorial(i),x=>0)\n",
    "end;\n",
    "\n",
    "function finite_difference_sim(f)\n",
    "    return (x,h)->(f(x+h,h)-f(x-h,h))/2 # Implementamos la derviada simétrica en la función\n",
    "end;"
   ]
  },
  {
   "cell_type": "code",
   "execution_count": 4,
   "metadata": {
    "collapsed": true
   },
   "outputs": [],
   "source": [
    "# Definimos a la función g como una variable simbólica\n",
    "\n",
    "g=SymFunction(\"g\");"
   ]
  },
  {
   "cell_type": "code",
   "execution_count": 5,
   "metadata": {
    "collapsed": false
   },
   "outputs": [
    {
     "data": {
      "text/plain": [
       "A (generic function with 1 method)"
      ]
     },
     "execution_count": 5,
     "metadata": {},
     "output_type": "execute_result"
    }
   ],
   "source": [
    "A(x,h)=g(x)"
   ]
  },
  {
   "cell_type": "code",
   "execution_count": 6,
   "metadata": {
    "collapsed": false
   },
   "outputs": [
    {
     "data": {
      "text/latex": [
       "$$g{\\left (x \\right )}$$"
      ],
      "text/plain": [
       "g(x)"
      ]
     },
     "execution_count": 6,
     "metadata": {},
     "output_type": "execute_result"
    }
   ],
   "source": [
    "A(Sym(\"x\"),Sym(\"h\"))"
   ]
  },
  {
   "cell_type": "code",
   "execution_count": 7,
   "metadata": {
    "collapsed": false
   },
   "outputs": [
    {
     "data": {
      "text/latex": [
       "$$- \\frac{1}{2} g{\\left (- h + x \\right )} + \\frac{1}{2} g{\\left (h + x \\right )}$$"
      ],
      "text/plain": [
       "  g(-h + x)   g(h + x)\n",
       "- --------- + --------\n",
       "      2          2    "
      ]
     },
     "execution_count": 7,
     "metadata": {},
     "output_type": "execute_result"
    }
   ],
   "source": [
    "# Función para mostrar la derivada simétrica como función de g\n",
    "\n",
    "B=finite_difference_sim(A);\n",
    "B(Sym(\"x\"),Sym(\"h\"))"
   ]
  },
  {
   "cell_type": "code",
   "execution_count": 31,
   "metadata": {
    "collapsed": false
   },
   "outputs": [
    {
     "data": {
      "text/latex": [
       "$$\\frac{3}{8} g{\\left (x \\right )} + \\frac{1}{16} g{\\left (- 4 h + x \\right )} - \\frac{1}{4} g{\\left (- 2 h + x \\right )} - \\frac{1}{4} g{\\left (2 h + x \\right )} + \\frac{1}{16} g{\\left (4 h + x \\right )}$$"
      ],
      "text/plain": [
       "3*g(x)   g(-4*h + x)   g(-2*h + x)   g(2*h + x)   g(4*h + x)\n",
       "------ + ----------- - ----------- - ---------- + ----------\n",
       "  8           16            4            4            16    "
      ]
     },
     "execution_count": 31,
     "metadata": {},
     "output_type": "execute_result"
    }
   ],
   "source": [
    "# Concatenando una vez\n",
    "\n",
    "B=finite_difference_sim(B);\n",
    "B(Sym(\"x\"),Sym(\"h\"))"
   ]
  },
  {
   "cell_type": "code",
   "execution_count": 32,
   "metadata": {
    "collapsed": false
   },
   "outputs": [
    {
     "data": {
      "text/latex": [
       "$$- \\frac{1}{32} g{\\left (- 5 h + x \\right )} + \\frac{5}{32} g{\\left (- 3 h + x \\right )} - \\frac{5}{16} g{\\left (- h + x \\right )} + \\frac{5}{16} g{\\left (h + x \\right )} - \\frac{5}{32} g{\\left (3 h + x \\right )} + \\frac{1}{32} g{\\left (5 h + x \\right )}$$"
      ],
      "text/plain": [
       "  g(-5*h + x)   5*g(-3*h + x)   5*g(-h + x)   5*g(h + x)   5*g(3*h + x)   g(5*\n",
       "- ----------- + ------------- - ----------- + ---------- - ------------ + ----\n",
       "       32             32             16           16            32            \n",
       "\n",
       "h + x)\n",
       "------\n",
       "32    "
      ]
     },
     "execution_count": 32,
     "metadata": {},
     "output_type": "execute_result"
    }
   ],
   "source": [
    "# Concatenando por segunda vez\n",
    "\n",
    "B=finite_difference_sim(B);\n",
    "B(Sym(\"x\"),Sym(\"h\"))"
   ]
  },
  {
   "cell_type": "code",
   "execution_count": 10,
   "metadata": {
    "collapsed": true
   },
   "outputs": [],
   "source": [
    "function Derivative_order(f,x,h,order)\n",
    "    g(x,h)=f(x)\n",
    "    der=0\n",
    "    for i in range(1,order)\n",
    "        g=finite_difference_sim(g)\n",
    "        der=der+coeff_Taylor_Log(i)*g(x,h)\n",
    "    end\n",
    "    der/h\n",
    "end;\n",
    "function Derivative_order_rational_coefficients(f,x,h,order)\n",
    "    g(x,h)=f(x)\n",
    "    der=0\n",
    "    for i in range(1,order)\n",
    "        g=finite_difference_sim(g)\n",
    "        der=der+coeff_Taylor_Log_rational(i)*g(x,h)\n",
    "    end\n",
    "    der/h\n",
    "end;"
   ]
  },
  {
   "cell_type": "code",
   "execution_count": 27,
   "metadata": {
    "collapsed": false
   },
   "outputs": [
    {
     "data": {
      "text/plain": [
       "-0.8412004131448864"
      ]
     },
     "execution_count": 27,
     "metadata": {},
     "output_type": "execute_result"
    }
   ],
   "source": [
    "# Hacemos una prueba para f(x)=cos(x) en el punto x=1\n",
    "\n",
    "Derivative_order(cos,1,0.001,5)"
   ]
  },
  {
   "cell_type": "code",
   "execution_count": 28,
   "metadata": {
    "collapsed": false
   },
   "outputs": [
    {
     "data": {
      "text/plain": [
       "-0.8414709848078965"
      ]
     },
     "execution_count": 28,
     "metadata": {},
     "output_type": "execute_result"
    }
   ],
   "source": [
    "-sin(1)"
   ]
  },
  {
   "cell_type": "code",
   "execution_count": 33,
   "metadata": {
    "collapsed": false
   },
   "outputs": [
    {
     "data": {
      "text/latex": [
       "$$\\frac{1}{h} \\left(\\frac{1}{4} f{\\left (x \\right )} - \\frac{1}{24} f{\\left (- 3 h + x \\right )} - \\frac{1}{8} f{\\left (- 2 h + x \\right )} - \\frac{3}{8} f{\\left (- h + x \\right )} + \\frac{3}{8} f{\\left (h + x \\right )} - \\frac{1}{8} f{\\left (2 h + x \\right )} + \\frac{1}{24} f{\\left (3 h + x \\right )}\\right)$$"
      ],
      "text/plain": [
       "f(x)   f(-3*h + x)   f(-2*h + x)   3*f(-h + x)   3*f(h + x)   f(2*h + x)   f(3\n",
       "---- - ----------- - ----------- - ----------- + ---------- - ---------- + ---\n",
       " 4          24            8             8            8            8           \n",
       "------------------------------------------------------------------------------\n",
       "                                          h                                   \n",
       "\n",
       "*h + x)\n",
       "-------\n",
       " 24    \n",
       "-------\n",
       "       "
      ]
     },
     "execution_count": 33,
     "metadata": {},
     "output_type": "execute_result"
    }
   ],
   "source": [
    "# Mostramos la aproximación de la serie de Taylor de orden 3 para la derivada simétrica\n",
    "\n",
    "aprox=Derivative_order_rational_coefficients(SymFunction(\"f\"),Sym(\"x\"),Sym(\"h\"),3)"
   ]
  },
  {
   "cell_type": "code",
   "execution_count": 35,
   "metadata": {
    "collapsed": false
   },
   "outputs": [
    {
     "data": {
      "text/latex": [
       "$$\\left. \\frac{d}{d \\xi_{1}} f{\\left (\\xi_{1} \\right )} \\right|_{\\substack{ \\xi_{1}=x }} - \\frac{h}{2} \\left. \\frac{d^{2}}{d \\xi_{1}^{2}}  f{\\left (\\xi_{1} \\right )} \\right|_{\\substack{ \\xi_{1}=x }} + \\frac{h^{2}}{2} \\left. \\frac{d^{3}}{d \\xi_{1}^{3}}  f{\\left (\\xi_{1} \\right )} \\right|_{\\substack{ \\xi_{1}=x }} + \\mathcal{O}\\left(h^{3}\\right)$$"
      ],
      "text/plain": [
       "                            /   2           \\|            /   3           \\|  \n",
       "                            |  d            ||          2 |  d            ||  \n",
       "                          h*|------(f(xi_1))||         h *|------(f(xi_1))||  \n",
       "                            |     2         ||            |     3         ||  \n",
       "/  d           \\|           \\dxi_1          /|xi_1=x      \\dxi_1          /|xi\n",
       "|-----(f(xi_1))||       - -------------------------- + -----------------------\n",
       "\\dxi_1         /|xi_1=x               2                             2         \n",
       "\n",
       "            \n",
       "            \n",
       "            \n",
       "            \n",
       "_1=x    / 3\\\n",
       "---- + O\\h /\n",
       "            "
      ]
     },
     "execution_count": 35,
     "metadata": {},
     "output_type": "execute_result"
    }
   ],
   "source": [
    "# Mostrando la serie de Taylor de orden 3 para la derivada simétrica\n",
    "\n",
    "series(aprox,Sym(\"h\"),0,3)"
   ]
  }
 ],
 "metadata": {
  "kernelspec": {
   "display_name": "Julia 0.6.0",
   "language": "julia",
   "name": "julia-0.6"
  },
  "language_info": {
   "file_extension": ".jl",
   "mimetype": "application/julia",
   "name": "julia",
   "version": "0.6.0"
  }
 },
 "nbformat": 4,
 "nbformat_minor": 2
}
