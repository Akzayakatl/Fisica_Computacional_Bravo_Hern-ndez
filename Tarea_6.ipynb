{
 "cells": [
  {
   "cell_type": "markdown",
   "metadata": {},
   "source": [
    "# Integración numérica\n",
    "\n",
    "Definamos una función $f$ al que queramos calcular su integral en un intevalo $[a,b]$. Primero definimos nuestra función $f$:\n",
    "\n"
   ]
  },
  {
   "cell_type": "code",
   "execution_count": 28,
   "metadata": {
    "collapsed": false
   },
   "outputs": [
    {
     "data": {
      "text/plain": [
       "f (generic function with 1 method)"
      ]
     },
     "execution_count": 28,
     "metadata": {},
     "output_type": "execute_result"
    }
   ],
   "source": [
    "# Definimos la función:\n",
    "\n",
    "f(x) = x^3 + x^2 + 1"
   ]
  },
  {
   "cell_type": "markdown",
   "metadata": {},
   "source": [
    "## Método del rectángulo:"
   ]
  },
  {
   "cell_type": "code",
   "execution_count": 29,
   "metadata": {
    "collapsed": false
   },
   "outputs": [
    {
     "data": {
      "text/plain": [
       "metodo_rectangulo (generic function with 1 method)"
      ]
     },
     "execution_count": 29,
     "metadata": {},
     "output_type": "execute_result"
    }
   ],
   "source": [
    "# Observación: Si nos dan valores arbitrarios de a, b, y e donde a y b son los limites de nuestro intervalo y e es la longitud del subintervalo, el valor (b-a)/e + 1 (que debe ser el número de subintervalos en nuestro linspace) no es necesariamente entero. Por ello, se aproximó la longitud del intervalo usando la función round(x) para usar (b-a)/e + 1 como un entero y como el número de subintervalos en el código.\n",
    "\n",
    "function metodo_rectangulo(f,a,b,e)   \n",
    "    \n",
    "    y = linspace(a,b,round((b-a)/e) + 1) # Definimos el linspace con los parámetros que nosotros queremos.\n",
    "    n = Int(round((b-a)/e) + 1) # Aproximación del número de subintervalos.\n",
    "    sum = zeros(n) # Definimos una lista vacía que contendrá las aportaciones de cada subintervalo.\n",
    "    dx = y[2]- y[1] # Definimos una nueva longitud de nuestro subintervalo que es es aproximadamente igual a e.\n",
    "    suma = 0 # Valor aproximado de la integral\n",
    "    \n",
    "    # Método del rectángulo\n",
    "    \n",
    "    for i in 1:n\n",
    "        \n",
    "        x = dx *f(y[i] + dx/2) # (a+b)/2 = (a+(a+dx))/2 = a + dx/2\n",
    "        sum[i] = x\n",
    "    end\n",
    "    \n",
    "    # Suma de todos las aportaciones\n",
    "    \n",
    "    for i in 1:n\n",
    "        suma = suma + sum[i]      \n",
    "    end\n",
    "    \n",
    "    return suma\n",
    "    \n",
    "end"
   ]
  },
  {
   "cell_type": "markdown",
   "metadata": {},
   "source": [
    "Para un intervalo de $[-4,5]$ con una longitud de subinteralo de aproximadamente 0.00000001:"
   ]
  },
  {
   "cell_type": "code",
   "execution_count": 30,
   "metadata": {
    "collapsed": false
   },
   "outputs": [
    {
     "data": {
      "text/plain": [
       "164.25015102299795"
      ]
     },
     "execution_count": 30,
     "metadata": {},
     "output_type": "execute_result"
    }
   ],
   "source": [
    "metodo_rectangulo(f,-4,5,0.000001)"
   ]
  },
  {
   "cell_type": "markdown",
   "metadata": {},
   "source": [
    "Para un intervalo de $[-10,0]$ con una longitud de subinteralo de aproximadamente 0.0025:"
   ]
  },
  {
   "cell_type": "code",
   "execution_count": 31,
   "metadata": {
    "collapsed": false
   },
   "outputs": [
    {
     "data": {
      "text/plain": [
       "-2156.664093745658"
      ]
     },
     "execution_count": 31,
     "metadata": {},
     "output_type": "execute_result"
    }
   ],
   "source": [
    "metodo_rectangulo(f,-10,0,0.0025)"
   ]
  },
  {
   "cell_type": "markdown",
   "metadata": {},
   "source": [
    "## Método del Trapecio"
   ]
  },
  {
   "cell_type": "code",
   "execution_count": 32,
   "metadata": {
    "collapsed": false
   },
   "outputs": [
    {
     "data": {
      "text/plain": [
       "metodo_trapecio (generic function with 1 method)"
      ]
     },
     "execution_count": 32,
     "metadata": {},
     "output_type": "execute_result"
    }
   ],
   "source": [
    "function metodo_trapecio(f,a,b,e)   \n",
    "       \n",
    "    y = linspace(a,b,round((b-a)/e) + 1) # Definimos el linspace con los parámetros que nosotros queremos.\n",
    "    n = Int(round((b-a)/e) + 1) # Aproximación del número de subintervalos.\n",
    "    sum = zeros(n) # Definimos una matrix vacía que contendrá las aportaciones de cada subintervalo.\n",
    "    dx = y[2]- y[1] # Definimos una nueva longitud de nuestro subintervalo que es es aproximadamente igual a e.\n",
    "    suma = 0 # Valor aproximado de la integral\n",
    "    \n",
    "    # Método del trapecio\n",
    "    \n",
    "    for i in 1:n\n",
    "        \n",
    "        x = dx*(f(y[i]) + f(y[i]+dx))/2 # (a+b)/2 = (a+(a+dx))/2 = a + dx/2\n",
    "        sum[i] = x\n",
    "    end\n",
    "    \n",
    "    # Suma de todos las aportaciones\n",
    "    \n",
    "    for i in 1:n\n",
    "        suma = suma + sum[i]      \n",
    "    end\n",
    "    \n",
    "    return suma\n",
    "    \n",
    "end"
   ]
  },
  {
   "cell_type": "markdown",
   "metadata": {},
   "source": [
    "Para un intervalo de $[-4,5]$ con una longitud de subinteralo de aproximadamente 0.00000001:"
   ]
  },
  {
   "cell_type": "code",
   "execution_count": 33,
   "metadata": {
    "collapsed": false
   },
   "outputs": [
    {
     "data": {
      "text/plain": [
       "164.25015102300335"
      ]
     },
     "execution_count": 33,
     "metadata": {},
     "output_type": "execute_result"
    }
   ],
   "source": [
    "metodo_trapecio(f,-4,5,0.000001)"
   ]
  },
  {
   "cell_type": "markdown",
   "metadata": {},
   "source": [
    "Para un intervalo de $[-10,0]$ con una longitud de subinteralo de aproximadamente 0.0025:"
   ]
  },
  {
   "cell_type": "code",
   "execution_count": 34,
   "metadata": {
    "collapsed": false
   },
   "outputs": [
    {
     "data": {
      "text/plain": [
       "-2156.6643124917405"
      ]
     },
     "execution_count": 34,
     "metadata": {},
     "output_type": "execute_result"
    }
   ],
   "source": [
    "metodo_trapecio(f,-10,0,0.0025)"
   ]
  }
 ],
 "metadata": {
  "kernelspec": {
   "display_name": "Julia 0.6.0",
   "language": "julia",
   "name": "julia-0.6"
  },
  "language_info": {
   "file_extension": ".jl",
   "mimetype": "application/julia",
   "name": "julia",
   "version": "0.6.0"
  }
 },
 "nbformat": 4,
 "nbformat_minor": 2
}
