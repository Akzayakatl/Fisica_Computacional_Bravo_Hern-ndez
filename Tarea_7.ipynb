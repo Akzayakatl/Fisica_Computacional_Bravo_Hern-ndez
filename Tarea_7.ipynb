{
 "cells": [
  {
   "cell_type": "markdown",
   "metadata": {},
   "source": [
    "## Método de Simpson"
   ]
  },
  {
   "cell_type": "markdown",
   "metadata": {},
   "source": [
    "Definamos una función $f$ al que queramos calcular su integral en un intevalo $[a,b]$. Primero definimos nuestra función $f$:"
   ]
  },
  {
   "cell_type": "code",
   "execution_count": 134,
   "metadata": {
    "collapsed": false
   },
   "outputs": [
    {
     "data": {
      "text/plain": [
       "f (generic function with 1 method)"
      ]
     },
     "execution_count": 134,
     "metadata": {},
     "output_type": "execute_result"
    }
   ],
   "source": [
    "# Definimos la función:\n",
    "\n",
    "f(x) = x^3 + x^2 + 1"
   ]
  },
  {
   "cell_type": "code",
   "execution_count": 135,
   "metadata": {
    "collapsed": false
   },
   "outputs": [
    {
     "data": {
      "text/plain": [
       "metodo_simpson (generic function with 1 method)"
      ]
     },
     "execution_count": 135,
     "metadata": {},
     "output_type": "execute_result"
    }
   ],
   "source": [
    "# Observación: Si nos dan valores arbitrarios de a, b, y e donde a y b son los limites de nuestro intervalo y e es la longitud del subintervalo, el valor (b-a)/e + 1 (que debe ser el número de subintervalos en nuestro linspace) no es necesariamente entero. Por ello, se aproximó la longitud del intervalo usando la función round(x) para usar (b-a)/e + 1 como un entero y como el número de subintervalos en el código.\n",
    "\n",
    "function metodo_simpson(f,a,b,e)   \n",
    "    \n",
    "    y = linspace(a,b,round((b-a)/e) + 1) # Definimos el linspace con los parámetros que nosotros queremos.\n",
    "    n = Int(round((b-a)/e) + 1) # Aproximación del número de subintervalos.\n",
    "    sum = zeros(n) # Definimos una lista vacía que contendrá las aportaciones de cada subintervalo.\n",
    "    dx = y[2]- y[1] # Definimos una nueva longitud de nuestro subintervalo que es es aproximadamente igual a e.\n",
    "    suma = 0 # Valor aproximado de la integral\n",
    "    \n",
    "    # Método de Simpson\n",
    "    \n",
    "    for i in 1:n\n",
    "        \n",
    "        x = dx*(f(y[i]) + 4*f((y[i] + dx/2)) + f((y[i]+dx)))/6 # (a+b)/2 = (a+(a+dx))/2 = a + dx/2\n",
    "        sum[i] = x\n",
    "    end\n",
    "    \n",
    "    # Suma de todos las aportaciones\n",
    "    \n",
    "    for i in 1:n\n",
    "        suma = suma + sum[i]      \n",
    "    end\n",
    "    \n",
    "    return suma\n",
    "    \n",
    "end"
   ]
  },
  {
   "cell_type": "markdown",
   "metadata": {},
   "source": [
    "Para un intervalo de $[-4,5]$ con una longitud de subinteralo de aproximadamente 0.000001:"
   ]
  },
  {
   "cell_type": "code",
   "execution_count": 136,
   "metadata": {
    "collapsed": false
   },
   "outputs": [
    {
     "data": {
      "text/plain": [
       "164.25015102299992"
      ]
     },
     "execution_count": 136,
     "metadata": {},
     "output_type": "execute_result"
    }
   ],
   "source": [
    "metodo_simpson(f,-4,5,0.000001)"
   ]
  },
  {
   "cell_type": "markdown",
   "metadata": {},
   "source": [
    "Para un intervalo de $[-10,0]$ con una longitud de subinteralo de aproximadamente 0.0025:"
   ]
  },
  {
   "cell_type": "code",
   "execution_count": 137,
   "metadata": {
    "collapsed": false
   },
   "outputs": [
    {
     "data": {
      "text/plain": [
       "-2156.6641666610294"
      ]
     },
     "execution_count": 137,
     "metadata": {},
     "output_type": "execute_result"
    }
   ],
   "source": [
    "metodo_simpson(f,-10,0,0.0025)"
   ]
  },
  {
   "cell_type": "markdown",
   "metadata": {},
   "source": [
    "## Interpolación polinomial de Lagrange\n",
    "\n",
    "Definamos nuestra lista de puntos en que quieres hacer la interpolación polinomial:"
   ]
  },
  {
   "cell_type": "code",
   "execution_count": 22,
   "metadata": {
    "collapsed": false
   },
   "outputs": [
    {
     "data": {
      "text/plain": [
       "0.0:0.6981317007977318:6.283185307179586"
      ]
     },
     "execution_count": 22,
     "metadata": {},
     "output_type": "execute_result"
    }
   ],
   "source": [
    "listx = linspace(0,2*pi,10)"
   ]
  },
  {
   "cell_type": "markdown",
   "metadata": {},
   "source": [
    "Luego, definamos la función que queremos aproximar:"
   ]
  },
  {
   "cell_type": "code",
   "execution_count": 23,
   "metadata": {
    "collapsed": false
   },
   "outputs": [
    {
     "data": {
      "text/plain": [
       "f (generic function with 1 method)"
      ]
     },
     "execution_count": 23,
     "metadata": {},
     "output_type": "execute_result"
    }
   ],
   "source": [
    "f(x) = cos(x)"
   ]
  },
  {
   "cell_type": "markdown",
   "metadata": {},
   "source": [
    "Hagamos una función que nos genera una lista con los elementos $f(x_i)$ para cada elemento de nuestra lista `x`"
   ]
  },
  {
   "cell_type": "code",
   "execution_count": 24,
   "metadata": {
    "collapsed": false
   },
   "outputs": [
    {
     "data": {
      "text/plain": [
       "f_list (generic function with 1 method)"
      ]
     },
     "execution_count": 24,
     "metadata": {},
     "output_type": "execute_result"
    }
   ],
   "source": [
    "function f_list(f,x)\n",
    "    listy = zeros(10)\n",
    "    \n",
    "    for i in 1:10\n",
    "        listy[i]=f(listx[i])\n",
    "    end\n",
    "    return listy\n",
    "end"
   ]
  },
  {
   "cell_type": "code",
   "execution_count": 25,
   "metadata": {
    "collapsed": false
   },
   "outputs": [
    {
     "data": {
      "text/plain": [
       "10-element Array{Float64,1}:\n",
       "  1.0     \n",
       "  0.766044\n",
       "  0.173648\n",
       " -0.5     \n",
       " -0.939693\n",
       " -0.939693\n",
       " -0.5     \n",
       "  0.173648\n",
       "  0.766044\n",
       "  1.0     "
      ]
     },
     "execution_count": 25,
     "metadata": {},
     "output_type": "execute_result"
    }
   ],
   "source": [
    "f_list(f,listx)"
   ]
  },
  {
   "cell_type": "markdown",
   "metadata": {},
   "source": [
    "El codigo para la interpolación polinomial:"
   ]
  },
  {
   "cell_type": "code",
   "execution_count": 26,
   "metadata": {
    "collapsed": true
   },
   "outputs": [],
   "source": [
    "# function interpol(listx,listy,x)"
   ]
  },
  {
   "cell_type": "markdown",
   "metadata": {},
   "source": [
    "## Comparación gráfica de la convergencia de 3 métodos de integración numérica\n",
    "\n",
    "Para esta comparacion, añademos los otros dos métodos que se hicieron para la tarea 6:"
   ]
  },
  {
   "cell_type": "code",
   "execution_count": 138,
   "metadata": {
    "collapsed": false
   },
   "outputs": [
    {
     "data": {
      "text/plain": [
       "metodo_rectangulo (generic function with 1 method)"
      ]
     },
     "execution_count": 138,
     "metadata": {},
     "output_type": "execute_result"
    }
   ],
   "source": [
    "# Observación: Si nos dan valores arbitrarios de a, b, y e donde a y b son los limites de nuestro intervalo y e es la longitud del subintervalo, el valor (b-a)/e + 1 (que debe ser el número de subintervalos en nuestro linspace) no es necesariamente entero. Por ello, se aproximó la longitud del intervalo usando la función round(x) para usar (b-a)/e + 1 como un entero y como el número de subintervalos en el código.\n",
    "\n",
    "function metodo_rectangulo(f,a,b,e)   \n",
    "    \n",
    "    y = linspace(a,b,round((b-a)/e) + 1) # Definimos el linspace con los parámetros que nosotros queremos.\n",
    "    n = Int(round((b-a)/e) + 1) # Aproximación del número de subintervalos.\n",
    "    sum = zeros(n) # Definimos una lista vacía que contendrá las aportaciones de cada subintervalo.\n",
    "    dx = y[2]- y[1] # Definimos una nueva longitud de nuestro subintervalo que es es aproximadamente igual a e.\n",
    "    suma = 0 # Valor aproximado de la integral\n",
    "    \n",
    "    # Método del rectángulo\n",
    "    \n",
    "    for i in 1:n\n",
    "        \n",
    "        x = dx *f((y[i] + dx/2)) # (a+b)/2 = (a+(a+dx))/2 = a + dx/2\n",
    "        sum[i] = x\n",
    "    end\n",
    "    \n",
    "    # Suma de todos las aportaciones\n",
    "    \n",
    "    for i in 1:n\n",
    "        suma = suma + sum[i]      \n",
    "    end\n",
    "    \n",
    "    return suma\n",
    "    \n",
    "end"
   ]
  },
  {
   "cell_type": "code",
   "execution_count": 139,
   "metadata": {
    "collapsed": false
   },
   "outputs": [
    {
     "ename": "LoadError",
     "evalue": "\u001b[91msyntax: missing comma or ) in argument list\u001b[39m",
     "output_type": "error",
     "traceback": [
      "\u001b[91msyntax: missing comma or ) in argument list\u001b[39m",
      ""
     ]
    }
   ],
   "source": [
    "function metodo_trapecio(f,a,b,e)   \n",
    "       \n",
    "    y = linspace(a,b,round((b-a)/e) + 1) # Definimos el linspace con los parámetros que nosotros queremos.\n",
    "    n = Int(round((b-a)/e) + 1) # Aproximación del número de subintervalos.\n",
    "    sum = zeros(n) # Definimos una matrix vacía que contendrá las aportaciones de cada subintervalo.\n",
    "    dx = y[2]- y[1] # Definimos una nueva longitud de nuestro subintervalo que es es aproximadamente igual a e.\n",
    "    suma = 0 # Valor aproximado de la integral\n",
    "    \n",
    "    # Método del trapecio\n",
    "    \n",
    "    for i in 1:n\n",
    "        \n",
    "        x = dx*(f(y[i]) + f((y[i]+dx))/2 # (a+b)/2 = (a+(a+dx))/2 = a + dx/2\n",
    "        sum[i] = x\n",
    "    end\n",
    "    \n",
    "    # Suma de todos las aportaciones\n",
    "    \n",
    "    for i in 1:n\n",
    "        suma = suma + sum[i]      \n",
    "    end\n",
    "    \n",
    "    return suma\n",
    "    \n",
    "end"
   ]
  },
  {
   "cell_type": "markdown",
   "metadata": {},
   "source": [
    "Definamos nuestra función $f(x)=-\\sin(x)$ y nuestro intervalo de integración como $[0,2\\pi]$"
   ]
  },
  {
   "cell_type": "code",
   "execution_count": 140,
   "metadata": {
    "collapsed": false
   },
   "outputs": [
    {
     "data": {
      "text/plain": [
       "f (generic function with 1 method)"
      ]
     },
     "execution_count": 140,
     "metadata": {},
     "output_type": "execute_result"
    }
   ],
   "source": [
    "f(x)=-sin(x)"
   ]
  },
  {
   "cell_type": "markdown",
   "metadata": {},
   "source": [
    "Definamos una función para cada método de integración que genera una lista de valores de la integral calculada para un $\\Delta x=1/2^{i-1}$:"
   ]
  },
  {
   "cell_type": "code",
   "execution_count": 141,
   "metadata": {
    "collapsed": false
   },
   "outputs": [
    {
     "data": {
      "text/plain": [
       "con_simp (generic function with 1 method)"
      ]
     },
     "execution_count": 141,
     "metadata": {},
     "output_type": "execute_result"
    }
   ],
   "source": [
    "# Función que nos genera una lista cuyas entradas son valores de la integral en función de una dx dada. En este caso, se tomó dx=1/2^n para algún n. Se hizo una función para cada método de integración.\n",
    "\n",
    "# Para el método del rectángulo\n",
    "\n",
    "function con_rect(f,a,b,n)\n",
    "    rectlist=zeros(n)\n",
    "    \n",
    "    for i in 1:n\n",
    "        rectlist[i] =  metodo_rectangulo(f,a,b,1/2^(i-1))\n",
    "    end\n",
    "    return rectlist\n",
    "end\n",
    "\n",
    "# Para el método del trapecio\n",
    "\n",
    "function con_trap(f,a,b,n)\n",
    "    traplist=zeros(n)\n",
    "    \n",
    "    for i in 1:n\n",
    "        traplist[i] =  metodo_trapecio(f,a,b,1/2^(i-1))\n",
    "    end\n",
    "    return traplist\n",
    "end\n",
    "\n",
    "# Para el método de Simpson\n",
    "\n",
    "function con_simp(f,a,b,n)\n",
    "    simplist=zeros(n)\n",
    "    \n",
    "    for i in 1:n\n",
    "        simplist[i] =  metodo_simpson(f,a,b,1/2^(i-1))\n",
    "    end\n",
    "    return simplist\n",
    "end"
   ]
  },
  {
   "cell_type": "code",
   "execution_count": 142,
   "metadata": {
    "collapsed": false
   },
   "outputs": [
    {
     "data": {
      "text/plain": [
       "10-element Array{Float64,1}:\n",
       " -0.500216   \n",
       " -0.114546   \n",
       " -0.0314169  \n",
       " -0.0078853  \n",
       " -0.0019344  \n",
       " -0.000488542\n",
       " -0.000122143\n",
       " -3.05362e-5 \n",
       " -7.63409e-6 \n",
       " -1.90734e-6 "
      ]
     },
     "execution_count": 142,
     "metadata": {},
     "output_type": "execute_result"
    }
   ],
   "source": [
    "con_simp(f,0,2*pi,10)"
   ]
  },
  {
   "cell_type": "markdown",
   "metadata": {},
   "source": [
    "Para graficar nuestras listas dadas por las tres funciones anteriores, debemos hacer una función que nos regrese una lista de valores $1/\\Delta x$:"
   ]
  },
  {
   "cell_type": "code",
   "execution_count": 143,
   "metadata": {
    "collapsed": false
   },
   "outputs": [
    {
     "data": {
      "text/plain": [
       "e_list (generic function with 1 method)"
      ]
     },
     "execution_count": 143,
     "metadata": {},
     "output_type": "execute_result"
    }
   ],
   "source": [
    "function e_list(n)\n",
    "    elist = zeros(n)\n",
    "    \n",
    "    for i in 1:n\n",
    "        elist[i]=2^(i-1)\n",
    "    end\n",
    "    return elist\n",
    "end"
   ]
  },
  {
   "cell_type": "code",
   "execution_count": 144,
   "metadata": {
    "collapsed": false
   },
   "outputs": [
    {
     "data": {
      "text/plain": [
       "10-element Array{Float64,1}:\n",
       "   1.0\n",
       "   2.0\n",
       "   4.0\n",
       "   8.0\n",
       "  16.0\n",
       "  32.0\n",
       "  64.0\n",
       " 128.0\n",
       " 256.0\n",
       " 512.0"
      ]
     },
     "execution_count": 144,
     "metadata": {},
     "output_type": "execute_result"
    }
   ],
   "source": [
    "e_list(10)"
   ]
  },
  {
   "cell_type": "markdown",
   "metadata": {},
   "source": [
    "Además, mandamos a llamar al paquete `PyPlot`:"
   ]
  },
  {
   "cell_type": "code",
   "execution_count": 145,
   "metadata": {
    "collapsed": true
   },
   "outputs": [],
   "source": [
    "using PyPlot"
   ]
  },
  {
   "cell_type": "markdown",
   "metadata": {},
   "source": [
    "Finalmente, graficamos el valor de la integral contra $1/\\Delta x$:"
   ]
  },
  {
   "cell_type": "code",
   "execution_count": 146,
   "metadata": {
    "collapsed": false
   },
   "outputs": [
    {
     "data": {
      "image/png": "[encoded data removed]",
      "text/plain": [
       "PyPlot.Figure(PyObject <matplotlib.figure.Figure object at 0x7fd49f1c9f50>)"
      ]
     },
     "metadata": {},
     "output_type": "display_data"
    }
   ],
   "source": [
    "# Para el primero término al tercero:\n",
    "\n",
    "xlabel(\"dx\")\n",
    "ylabel(\"Valor de la integral\")\n",
    "title(\"Convergencia de los 3 métodos\")\n",
    "grid(\"on\")\n",
    "\n",
    "plot((e_list(3)), con_rect(f,0,2*pi,3), color=\"blue\", linewidth=1.0, linestyle=\":\")\n",
    "plot((e_list(3)), con_trap(f,0,2*pi,3), color=\"green\", linewidth=2.0, linestyle=\":\")\n",
    "plot((e_list(3)), con_simp(f,0,2*pi,3), color=\"red\", linewidth=1.0, linestyle=\":\")\n",
    "show();"
   ]
  },
  {
   "cell_type": "code",
   "execution_count": 147,
   "metadata": {
    "collapsed": false
   },
   "outputs": [
    {
     "data": {
      "image/png": "[encoded data removed]",
      "text/plain": [
       "PyPlot.Figure(PyObject <matplotlib.figure.Figure object at 0x7fd49f0cdf50>)"
      ]
     },
     "metadata": {},
     "output_type": "display_data"
    }
   ],
   "source": [
    "# Para el primero término al décimo:\n",
    "\n",
    "xlabel(\"dx\")\n",
    "ylabel(\"Valor de la integral\")\n",
    "title(\"Convergencia de los 3 métodos\")\n",
    "grid(\"on\")\n",
    "\n",
    "plot((e_list(6)), con_rect(f,0,2*pi,6), color=\"blue\", linewidth=1.0, linestyle=\":\")\n",
    "plot((e_list(6)), con_trap(f,0,2*pi,6), color=\"green\", linewidth=2.0, linestyle=\":\")\n",
    "plot((e_list(6)), con_simp(f,0,2*pi,6), color=\"red\", linewidth=1.0, linestyle=\":\")\n",
    "show();"
   ]
  },
  {
   "cell_type": "markdown",
   "metadata": {},
   "source": [
    "Nosotros sabemos que $$\\displaystyle \\int_0^{2\\pi} \\sin(x) \\, dx = 0.$$\n",
    "\n",
    "Así que tiene sentido que el valor de la integral dada por cada métodos converjan a $0$.\n",
    "\n",
    "En la primera gráfica, podemos observar que los tres métodos para el primero valor de $\\Delta x$ dan un valor distinto, pero que después del segundo valor de $\\Delta x$ son aproximadamente iguales. En la segunda gráfica, se puede observar que a partir de $1/\\Delta x \\approx 15$, la aproximación es muy cercana al valor esperado. Esto es, para $\\Delta x \\approx 1/15$. Además, para esta función, la aproximación es mejor para el método del trapecio, seguido por el método de Simpson y finalmente el método del rectángulo."
   ]
  },
  {
   "cell_type": "code",
   "execution_count": null,
   "metadata": {
    "collapsed": true
   },
   "outputs": [],
   "source": []
  }
 ],
 "metadata": {
  "kernelspec": {
   "display_name": "Julia 0.6.0",
   "language": "julia",
   "name": "julia-0.6"
  },
  "language_info": {
   "file_extension": ".jl",
   "mimetype": "application/julia",
   "name": "julia",
   "version": "0.6.0"
  }
 },
 "nbformat": 4,
 "nbformat_minor": 2
}
