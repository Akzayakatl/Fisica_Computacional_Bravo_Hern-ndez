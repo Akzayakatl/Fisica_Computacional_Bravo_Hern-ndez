{
 "cells": [
  {
   "cell_type": "markdown",
   "metadata": {
    "collapsed": true
   },
   "source": [
    "# Diferencias finitas\n",
    "\n",
    "### Ejercicio 1\n",
    "\n",
    "Escribe una función derivadaNumerica que reciba: una función $f\\colon \\mathbb{R}\\mapsto\\mathbb{R}$, un punto $x_0\\in\\mathbb{R}$ y un número $h\\in\\mathbb{R}$. Esta función deberá calcular una aproximación a la derivada utilizando la definición indicada arriba ignorando la parte del límite. Es decir, algo como: derivada_numerica(f,x,h)."
   ]
  },
  {
   "cell_type": "code",
   "execution_count": 2,
   "metadata": {
    "collapsed": false
   },
   "outputs": [
    {
     "data": {
      "text/plain": [
       "derivada_numerica (generic function with 1 method)"
      ]
     },
     "execution_count": 2,
     "metadata": {},
     "output_type": "execute_result"
    }
   ],
   "source": [
    "function derivada_numerica(f,x,h)\n",
    "    \n",
    "    y = (f(x+h) - f(x))/h\n",
    "    \n",
    "    return y\n",
    "end"
   ]
  },
  {
   "cell_type": "markdown",
   "metadata": {},
   "source": [
    "### Ejercicio 2\n",
    "Utiliza tu función `derivada_numerica` para calcular la derivada de la función $\\cos$ en un punto $x_0\\in[0,1)$. Compara tu resultado con el que indica el cálculo exacto. Utiliza valores de $h$ cada vez más pequeños, grafica el comportamiento de la derivada y muestra como converge al valor exacto conforme tomamos $h$'s cada vez más pequeño. Para ello pueden graficar el resultado de la derivada numérica contra $1/h$. Observa el resultado de la aproximación y comenta. ¿El error es del orden de $h$?, para ver esto grafica el error relativo a $f'(x_0)$: $$\\epsilon=\\frac{\\Delta f(x_0,h)/h-f'(x_0)}{f'(x_0)},$$ respecto a $h$."
   ]
  },
  {
   "cell_type": "code",
   "execution_count": 3,
   "metadata": {
    "collapsed": false
   },
   "outputs": [
    {
     "data": {
      "text/plain": [
       "-0.483805424462147"
      ]
     },
     "execution_count": 3,
     "metadata": {},
     "output_type": "execute_result"
    }
   ],
   "source": [
    "derivada_numerica(cos,0.5,0.01)"
   ]
  },
  {
   "cell_type": "code",
   "execution_count": 4,
   "metadata": {
    "collapsed": false
   },
   "outputs": [
    {
     "data": {
      "text/plain": [
       "-0.479425538604203"
      ]
     },
     "execution_count": 4,
     "metadata": {},
     "output_type": "execute_result"
    }
   ],
   "source": [
    "-sin(0.5)"
   ]
  },
  {
   "cell_type": "code",
   "execution_count": 5,
   "metadata": {
    "collapsed": false
   },
   "outputs": [
    {
     "data": {
      "text/plain": [
       "10-element Array{Float64,1}:\n",
       " 1.0   \n",
       " 0.5   \n",
       " 0.25  \n",
       " 0.1   \n",
       " 0.05  \n",
       " 0.025 \n",
       " 0.01  \n",
       " 0.005 \n",
       " 0.0025\n",
       " 0.001 "
      ]
     },
     "execution_count": 5,
     "metadata": {},
     "output_type": "execute_result"
    }
   ],
   "source": [
    "# Definimos una lista de valores de h que hacemos cada vez más pequeños.\n",
    "\n",
    "X = [1, 0.50, 0.25, 0.1, 0.05, 0.025, 0.01, 0.005, 0.0025, 0.001]"
   ]
  },
  {
   "cell_type": "code",
   "execution_count": 6,
   "metadata": {
    "collapsed": false
   },
   "outputs": [
    {
     "data": {
      "text/plain": [
       "10-element Array{Int64,1}:\n",
       "    1\n",
       "    2\n",
       "    4\n",
       "   10\n",
       "   20\n",
       "   40\n",
       "  100\n",
       "  200\n",
       "  400\n",
       " 1000"
      ]
     },
     "execution_count": 6,
     "metadata": {},
     "output_type": "execute_result"
    }
   ],
   "source": [
    "# Definimos una lista para los valores de 1/h para graficar.\n",
    "\n",
    "Z = [1, 2, 4, 10, 20, 40, 100, 200, 400, 1000]"
   ]
  },
  {
   "cell_type": "code",
   "execution_count": 7,
   "metadata": {
    "collapsed": false,
    "scrolled": true
   },
   "outputs": [
    {
     "data": {
      "text/plain": [
       "10-element Array{Float64,1}:\n",
       " -0.806845\n",
       " -0.674561\n",
       " -0.583575\n",
       " -0.522469\n",
       " -0.501161\n",
       " -0.490345\n",
       " -0.483805\n",
       " -0.481617\n",
       " -0.480522\n",
       " -0.479864"
      ]
     },
     "execution_count": 7,
     "metadata": {},
     "output_type": "execute_result"
    }
   ],
   "source": [
    "# Evaluamos la función derivada numérica en la lista con los valores de h.\n",
    "\n",
    "Y = derivada_numerica.(cos,0.5,X)"
   ]
  },
  {
   "cell_type": "code",
   "execution_count": 8,
   "metadata": {
    "collapsed": true
   },
   "outputs": [],
   "source": [
    "using PyPlot"
   ]
  },
  {
   "cell_type": "code",
   "execution_count": 9,
   "metadata": {
    "collapsed": false
   },
   "outputs": [
    {
     "data": {
      "image/png": "[encoded data removed]",
      "text/plain": [
       "PyPlot.Figure(PyObject <matplotlib.figure.Figure object at 0x7f5e50e1b1d0>)"
      ]
     },
     "metadata": {},
     "output_type": "display_data"
    }
   ],
   "source": [
    "# Graficamos en el eje x en una escala logarítmica para observar de mejor manera el comportamiento de la convergencia.\n",
    "\n",
    "scatter(log.(Z),Y)\n",
    "\n",
    "title(\"Convergencia de la derivadad numérica de cos(x) en x=0.5\")\n",
    "xlabel(\"log(1/h)\")\n",
    "ylabel(\"(f(x+h)-f(x))/h\")\n",
    "\n",
    "grid(\"on\")"
   ]
  },
  {
   "cell_type": "code",
   "execution_count": 11,
   "metadata": {
    "collapsed": false
   },
   "outputs": [
    {
     "data": {
      "text/plain": [
       "err_rel_cos (generic function with 1 method)"
      ]
     },
     "execution_count": 11,
     "metadata": {},
     "output_type": "execute_result"
    }
   ],
   "source": [
    "# Definimos la función que nos da el error relativo en función de f, el punto x y h.\n",
    "\n",
    "function err_rel_cos(x,h)\n",
    "    \n",
    "    e = (derivada_numerica(cos,x,h) + sin(x))/sin(x)\n",
    "    \n",
    "    return e\n",
    "end"
   ]
  },
  {
   "cell_type": "code",
   "execution_count": 13,
   "metadata": {
    "collapsed": false
   },
   "outputs": [
    {
     "data": {
      "text/plain": [
       "-0.009135695755164812"
      ]
     },
     "execution_count": 13,
     "metadata": {},
     "output_type": "execute_result"
    }
   ],
   "source": [
    "err_rel_cos(0.5,0.01)"
   ]
  },
  {
   "cell_type": "code",
   "execution_count": 15,
   "metadata": {
    "collapsed": false
   },
   "outputs": [
    {
     "data": {
      "text/plain": [
       "10-element Array{Float64,1}:\n",
       " -0.682942   \n",
       " -0.407018   \n",
       " -0.217238   \n",
       " -0.0897823  \n",
       " -0.045336   \n",
       " -0.0227757  \n",
       " -0.0091357  \n",
       " -0.00457204 \n",
       " -0.00228707 \n",
       " -0.000915077"
      ]
     },
     "execution_count": 15,
     "metadata": {},
     "output_type": "execute_result"
    }
   ],
   "source": [
    "W = err_rel_cos.(0.5,X)"
   ]
  },
  {
   "cell_type": "code",
   "execution_count": 19,
   "metadata": {
    "collapsed": false
   },
   "outputs": [
    {
     "data": {
      "image/png": "[encoded data removed]",
      "text/plain": [
       "PyPlot.Figure(PyObject <matplotlib.figure.Figure object at 0x7f5e4eb16410>)"
      ]
     },
     "metadata": {},
     "output_type": "display_data"
    }
   ],
   "source": [
    "# Gráfica del error relativo en función de h.\n",
    "\n",
    "scatter(X,W)\n",
    "\n",
    "title(\"Convergencia de la derivadad numérica de cos(x) en x=0.5\")\n",
    "xlabel(\"h\")\n",
    "ylabel(\"e\")\n",
    "\n",
    "grid(\"on\")"
   ]
  },
  {
   "cell_type": "markdown",
   "metadata": {},
   "source": [
    "Se puede observar que para valores de h muy pequeños, la relación entre e y h es aproximadamente lineal."
   ]
  },
  {
   "cell_type": "markdown",
   "metadata": {
    "collapsed": true
   },
   "source": [
    "## Ejercicio 3\n",
    "\n",
    "Teniendo en mente la serie de Taylor para $f(x+h)$ ¿existe\n",
    "alguna forma de mejorar el cálculo de la derivada numérica? Comenta."
   ]
  },
  {
   "cell_type": "markdown",
   "metadata": {
    "collapsed": true
   },
   "source": [
    "Para mejorar la aproximación de la derivada podemos considerar la expansión en serie de Taylor de $f(x+h) - f(x-h)$. Tenemos que\n",
    "\n",
    "$$f(x+h) = \\sum^{\\infty}_{n=0} \\frac{h^n}{n!}\\left.\\frac{d^n}{dx^n}f(x)\\right|_{x=\\xi}$$\n",
    "\n",
    "$$f(x-h) = \\sum^{\\infty}_{n=0} \\frac{(-h)^n}{n!}\\left.\\frac{d^n}{dx^n}f(x)\\right|_{x=\\xi}$$\n",
    "\n",
    "Así que\n",
    "\n",
    "$$f(x+h) - f(x-h) = 2h\\left.\\frac{d}{dx}f(x)\\right|_{x=\\xi}  + 2 \\frac{h^3}{3!}\\left.\\frac{d^3}{dx^3}f(x)\\right|_{x=\\xi} + \\dots $$ \n",
    "\n",
    "donde se cancelan los términos pares. Por lo tanto,\n",
    "\n",
    "$$\\frac{f(x+h) - f(x-h)}{2h} = \\left.\\frac{d}{dx}f(x)\\right|_{x=\\xi}  + \\mathcal{O}(h^2) $$\n",
    "\n",
    "Con esto, podemos obtener una mejor aproximación a la derivada de una función en un punto."
   ]
  },
  {
   "cell_type": "markdown",
   "metadata": {},
   "source": [
    "## Ejercicio 4\n",
    "\n",
    "Implementar la derivada simétrica:"
   ]
  },
  {
   "cell_type": "code",
   "execution_count": 43,
   "metadata": {
    "collapsed": false
   },
   "outputs": [
    {
     "data": {
      "text/plain": [
       "derivada_simetrica (generic function with 1 method)"
      ]
     },
     "execution_count": 43,
     "metadata": {},
     "output_type": "execute_result"
    }
   ],
   "source": [
    "function derivada_simetrica(f,x,h)\n",
    "    \n",
    "    z = (f(x+h) - f(x-h))/(2*h)\n",
    "    \n",
    "    return z\n",
    "end"
   ]
  },
  {
   "cell_type": "code",
   "execution_count": 41,
   "metadata": {
    "collapsed": false
   },
   "outputs": [
    {
     "data": {
      "text/plain": [
       "-0.21797020430365915"
      ]
     },
     "execution_count": 41,
     "metadata": {},
     "output_type": "execute_result"
    }
   ],
   "source": [
    "derivada_simetrica(cos,0.5,2)"
   ]
  },
  {
   "cell_type": "code",
   "execution_count": 47,
   "metadata": {
    "collapsed": false
   },
   "outputs": [
    {
     "data": {
      "text/plain": [
       "10-element Array{Float64,1}:\n",
       " 1.0   \n",
       " 0.5   \n",
       " 0.25  \n",
       " 0.1   \n",
       " 0.05  \n",
       " 0.025 \n",
       " 0.01  \n",
       " 0.005 \n",
       " 0.0025\n",
       " 0.001 "
      ]
     },
     "execution_count": 47,
     "metadata": {},
     "output_type": "execute_result"
    }
   ],
   "source": [
    "X = [1, 0.50, 0.25, 0.1, 0.05, 0.025, 0.01, 0.005, 0.0025, 0.001]"
   ]
  },
  {
   "cell_type": "code",
   "execution_count": 45,
   "metadata": {
    "collapsed": false
   },
   "outputs": [
    {
     "data": {
      "text/plain": [
       "10-element Array{Int64,1}:\n",
       "    1\n",
       "    2\n",
       "    4\n",
       "   10\n",
       "   20\n",
       "   40\n",
       "  100\n",
       "  200\n",
       "  400\n",
       " 1000"
      ]
     },
     "execution_count": 45,
     "metadata": {},
     "output_type": "execute_result"
    }
   ],
   "source": [
    "Z = [1, 2, 4, 10, 20, 40, 100, 200, 400, 1000]"
   ]
  },
  {
   "cell_type": "code",
   "execution_count": 48,
   "metadata": {
    "collapsed": false
   },
   "outputs": [
    {
     "data": {
      "text/plain": [
       "10-element Array{Float64,1}:\n",
       " -0.403423\n",
       " -0.459698\n",
       " -0.474447\n",
       " -0.478627\n",
       " -0.479226\n",
       " -0.479376\n",
       " -0.479418\n",
       " -0.479424\n",
       " -0.479425\n",
       " -0.479425"
      ]
     },
     "execution_count": 48,
     "metadata": {},
     "output_type": "execute_result"
    }
   ],
   "source": [
    "Ys = derivada_simetrica.(cos,0.5,X)"
   ]
  },
  {
   "cell_type": "code",
   "execution_count": 55,
   "metadata": {
    "collapsed": false
   },
   "outputs": [
    {
     "data": {
      "image/png": "[encoded data removed]",
      "text/plain": [
       "PyPlot.Figure(PyObject <matplotlib.figure.Figure object at 0x7f560924b510>)"
      ]
     },
     "metadata": {},
     "output_type": "display_data"
    },
    {
     "data": {
      "text/plain": [
       "PyObject <matplotlib.legend.Legend object at 0x7f560919e710>"
      ]
     },
     "execution_count": 55,
     "metadata": {},
     "output_type": "execute_result"
    }
   ],
   "source": [
    "# Comparación entre ambas derivadas\n",
    "\n",
    "scatter(log.(Z),Ys, label=\"Derivada simétrica\")\n",
    "scatter(log.(Z),Y, label=\"Derivada normal\")\n",
    "\n",
    "title(\"Comparación de convergencia\")\n",
    "xlabel(\"log(1/h)\")\n",
    "ylabel(\"Aproximación de la derivada\")\n",
    "\n",
    "grid(\"on\")\n",
    "legend()"
   ]
  },
  {
   "cell_type": "markdown",
   "metadata": {},
   "source": [
    "Claramente se puede observar que la derivada simétrica converge más rápido al valor real que la derivada normal."
   ]
  },
  {
   "cell_type": "markdown",
   "metadata": {},
   "source": [
    "## Ejercicio 5\n",
    "\n",
    "Demuestre que $\\Delta_h$ es un operador lineal y que podemos \"factorizar\" la función a la derecha del operador. Hecho esto podemos quitar de ambos lados la función $f$ para obtener lo siguiente:\n",
    "$$\\Delta_h=\\sum_{n=1}^{\\infty} \\frac{1}{n!}h^n\\left.\\frac{d^n}{d\\xi^n}\\right|_{\\substack{ \\xi=x }}$$\n",
    "\n",
    "Demostración.- Sean $\\alpha, \\beta \\in \\, \\mathbb{R}$ y $f, g$ dos funciones infinitamente derivables. Entonces\n",
    "\n",
    "$$\\begin{aligned}\n",
    "    \\Delta_h(\\alpha f + \\beta g) &= \\sum^{\\infty}_{n=1} \\frac{h^n}{n!} \\left.\\frac{d^n}{dx^n} (\\alpha f(x) + \\beta g(x)) \\right|_{x=\\xi} \\\\\n",
    "    &= \\alpha\\sum^{\\infty}_{n=1} \\frac{h^n}{n!} \\left.\\frac{d^n}{dx^n} f(x) \\right|_{x=\\xi} + \\beta \\sum^{\\infty}_{n=1} \\frac{h^n}{n!} \\left.\\frac{d^n}{dx^n} g(x) \\right|_{x=\\xi} \\\\\n",
    "    &= \\alpha \\Delta_h f(x) + \\beta \\Delta_h g(x) \\\\\n",
    "    &= \\alpha f(x,h) + \\beta g(x,h)\n",
    "\\end{aligned}\n",
    "$$\n",
    "\n",
    "Por lo tanto, $\\Delta_h$ es un operadora lineal y lo podemos escribir como:\n",
    "\n",
    "$$ \\Delta_h=\\sum_{n=1}^{\\infty} \\frac{h^n}{n!}\\left.\\frac{d^n}{dx^n}\\right|_{x=\\xi} $$\n"
   ]
  },
  {
   "cell_type": "markdown",
   "metadata": {
    "collapsed": true
   },
   "source": [
    "## Ejercicio 6\n",
    "\n",
    "Debemos encontrar una función $\\phi$ tal que $$\\Delta_h=\\phi\\left(h\\left.\\frac{d}{d\\xi}\\right|_{\\substack{ \\xi=x }}\\right)$$.\n",
    "\n",
    "Notemos que\n",
    "\n",
    "$$\\begin{aligned}\n",
    "    e^x &= \\sum^{\\infty}_{n=0} \\frac{x^n}{n!} \\\\\n",
    "    &= 1 + \\sum^{\\infty}_{n=1} \\frac{x^n}{n!} \\\\\n",
    "\\end{aligned}\n",
    "$$\n",
    "$$\\Rightarrow \\sum^{\\infty}_{n=1} \\frac{x^n}{n!} = e^x - 1$$\n",
    "\n",
    "Definiendo $\\phi(x)=e^x-1$ y tomando $\\displaystyle x=h\\left.\\frac{d}{dx}\\right|_{x=\\xi}$ obtenemos la relación que queremos:\n",
    "$$\\Delta_h=\\phi\\left(h\\left.\\frac{d}{d\\xi}\\right|_{\\substack{ \\xi=x }}\\right) = e^{\\left(h\\left.\\frac{d}{d\\xi}\\right|_{\\substack{ \\xi=x }}\\right)} - 1 = 1 + \\sum_{n=1}^{\\infty} \\frac{h^n}{n!}\\left.\\frac{d^n}{dx^n}\\right|_{x=\\xi} - 1 = \\sum_{n=1}^{\\infty} \\frac{h^n}{n!}\\left.\\frac{d^n}{dx^n}\\right|_{x=\\xi} $$\n"
   ]
  }
 ],
 "metadata": {
  "kernelspec": {
   "display_name": "Julia 0.6.0",
   "language": "julia",
   "name": "julia-0.6"
  },
  "language_info": {
   "file_extension": ".jl",
   "mimetype": "application/julia",
   "name": "julia",
   "version": "0.6.0"
  }
 },
 "nbformat": 4,
 "nbformat_minor": 2
}
