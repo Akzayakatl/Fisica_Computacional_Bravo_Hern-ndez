{
 "cells": [
  {
   "cell_type": "markdown",
   "metadata": {},
   "source": [
    "## Ejercicio 1\n",
    "\n",
    "Crear la libreria herramientas dentro de su carpeta de tareas, en su repositorio. Dentro deberán poner los métodos de Newton que construyeron, los métodos de integración, Euler independiente de dimensión (implícito y explícito)y Runge-Kutta independiente de dimensión. Recuerden que las rutinas deben funcionar solo con sus argumentos, no debe haber variables globales, todo lo que necesite la función para trabajar debe ser un argumento o una variable definida internamente.\n",
    "Las rutinas tienen que llevar su documentación.\n",
    "Crearán el notebook de la tarea 15 (para el Martes 17) y en el llamarán a su libreria con el comando import.\n",
    "Deberán demostrar que sus rutinas funcionan bien, no se necesitan tests extensos, basta con que muestren que si corren las rutinas."
   ]
  },
  {
   "cell_type": "code",
   "execution_count": 20,
   "metadata": {},
   "outputs": [
    {
     "name": "stderr",
     "output_type": "stream",
     "text": [
      "WARNING: replacing module milibreria\n"
     ]
    },
    {
     "data": {
      "text/plain": [
       "milibreria"
      ]
     },
     "execution_count": 20,
     "metadata": {},
     "output_type": "execute_result"
    }
   ],
   "source": [
    "__precompile__()\n",
    "\n",
    "module milibreria\n",
    "\n",
    "export metodo_newton, runge_kutta_4, metodo_euler, metodo_trapecio, metodo_simpson, metodo_rectangulo\n",
    "\n",
    "## Método de Newton\n",
    "function metodo_newton(f,df,x0)\n",
    "    x=x0\n",
    "    for i in 1:100\n",
    "       x=x-f(x)/df(x) \n",
    "    end\n",
    "    return x\n",
    "end\n",
    "\n",
    "\n",
    "function metodo_rectangulo(f,a,b,e)   \n",
    "    \n",
    "    y = linspace(a,b,round((b-a)/e) + 1) # Definimos el linspace con los parámetros que nosotros queremos.\n",
    "    n = Int(round((b-a)/e) + 1) # Aproximación del número de subintervalos.\n",
    "    sum = zeros(n) # Definimos una lista vacía que contendrá las aportaciones de cada subintervalo.\n",
    "    dx = y[2]- y[1] # Definimos una nueva longitud de nuestro subintervalo que es es aproximadamente igual a e.\n",
    "    suma = 0 # Valor aproximado de la integral\n",
    "    \n",
    "    # Método del rectángulo\n",
    "    \n",
    "    for i in 1:n-1\n",
    "        \n",
    "        x = dx *f(y[i] + dx/2) # (a+b)/2 = (a+(a+dx))/2 = a + dx/2\n",
    "        sum[i] = x\n",
    "    end\n",
    "    \n",
    "    # Suma de todos las aportaciones\n",
    "    \n",
    "    for i in 1:n-1\n",
    "        suma = suma + sum[i]      \n",
    "    end\n",
    "    \n",
    "    return suma\n",
    "    \n",
    "end\n",
    "\n",
    "function metodo_trapecio(f,a,b,e)   \n",
    "       \n",
    "    y = linspace(a,b,round((b-a)/e) + 1) # Definimos el linspace con los parámetros que nosotros queremos.\n",
    "    n = Int(round((b-a)/e) + 1) # Aproximación del número de subintervalos.\n",
    "    sum = zeros(n) # Definimos una matrix vacía que contendrá las aportaciones de cada subintervalo.\n",
    "    dx = y[2]- y[1] # Definimos una nueva longitud de nuestro subintervalo que es es aproximadamente igual a e.\n",
    "    suma = 0 # Valor aproximado de la integral\n",
    "    \n",
    "    # Método del trapecio\n",
    "    \n",
    "    for i in 1:n-1\n",
    "        \n",
    "        x = dx*(f(y[i]) + f(y[i]+dx))/2 # (a+b)/2 = (a+(a+dx))/2 = a + dx/2\n",
    "        sum[i] = x\n",
    "    end\n",
    "    \n",
    "    # Suma de todos las aportaciones\n",
    "    \n",
    "    for i in 1:n-1\n",
    "        suma = suma + sum[i]      \n",
    "    end\n",
    "    \n",
    "    return suma\n",
    "    \n",
    "end\n",
    "\n",
    "\n",
    "function metodo_simpson(f,a,b,e)   \n",
    "    \n",
    "    y = linspace(a,b,round((b-a)/e) + 1) # Definimos el linspace con los parámetros que nosotros queremos.\n",
    "    n = Int(round((b-a)/e) + 1) # Aproximación del número de subintervalos.\n",
    "    sum = zeros(n) # Definimos una lista vacía que contendrá las aportaciones de cada subintervalo.\n",
    "    dx = y[2]- y[1] # Definimos una nueva longitud de nuestro subintervalo que es es aproximadamente igual a e.\n",
    "    suma = 0 # Valor aproximado de la integral\n",
    "    \n",
    "    # Método de Simpson\n",
    "    \n",
    "    for i in 1:n-1\n",
    "        \n",
    "        x = dx*(f(y[i]) + 4*f((y[i] + dx/2)) + f((y[i]+dx)))/6 # (a+b)/2 = (a+(a+dx))/2 = a + dx/2\n",
    "        sum[i] = x\n",
    "    end\n",
    "    \n",
    "    # Suma de todos las aportaciones\n",
    "    \n",
    "    for i in 1:n-1\n",
    "        suma = suma + sum[i]      \n",
    "    end\n",
    "    \n",
    "    return suma\n",
    "    \n",
    "end\n",
    "\n",
    "function metodo_euler(f,x0,listt)\n",
    "    # Definimos una lista arbitraria sin definir los elementos que va a contener\n",
    "    \n",
    "    listx = []\n",
    "    \n",
    "    h = listt[2] - listt[1]\n",
    "    \n",
    "    # Condiciones iniciales\n",
    "    x = x0\n",
    "\n",
    "    # Introducimos nuestra condición inicial en nuestra lista:\n",
    "    \n",
    "    push!(listx,x)\n",
    "    \n",
    "    \n",
    "    # Método de Euler explícito\n",
    "    for i in 1:length(listt)-1\n",
    "        \n",
    "    x = x + h*f(listx[i], listt[i]) \n",
    "    \n",
    "    # Guardamos los valores de xi en la lista\n",
    "    push!(listx,x)\n",
    "    end\n",
    "    \n",
    "    return listx\n",
    "end\n",
    "\n",
    "\n",
    "function runge_kutta_4(f,x0,listt)\n",
    "    # Definimos una lista arbitraria sin definir los elementos que va a contener\n",
    "    \n",
    "    listx = []\n",
    "    \n",
    "    h = listt[2] - listt[1]\n",
    "    \n",
    "    # Condiciones iniciales\n",
    "    x = x0\n",
    "\n",
    "    # Introducimos nuestra condición inicial en nuestra lista:\n",
    "    \n",
    "    push!(listx,x)\n",
    "    \n",
    "    \n",
    "    # Método de Runge-Kutta de orden 4\n",
    "    for i in 1:length(listt)-1\n",
    "        \n",
    "    k1 = f(x, listt[i])\n",
    "    k2 = f(x + h*(k1)/2, listt[i] + h/2) \n",
    "    k3 = f(x + h*(k2)/2, listt[i] + h/2)\n",
    "    k4 = f(x + h*(k3), listt[i] + h)  \n",
    "        \n",
    "    # Sumamos las aportaciones de ki según el método de Runge-Kutta de orden 4\n",
    "    x = x + h*(k1 + 2*(k2) + 2*(k3) + k4)/6 \n",
    "    \n",
    "    # Guardamos los valores de xi en la lista\n",
    "    push!(listx,x)\n",
    "    end\n",
    "    \n",
    "    return listx\n",
    "end\n",
    "\n",
    "end"
   ]
  },
  {
   "cell_type": "code",
   "execution_count": 25,
   "metadata": {},
   "outputs": [
    {
     "name": "stderr",
     "output_type": "stream",
     "text": [
      "WARNING: could not import milibreria.jl into Main\n"
     ]
    }
   ],
   "source": [
    "import milibreria.jl"
   ]
  },
  {
   "cell_type": "code",
   "execution_count": 6,
   "metadata": {},
   "outputs": [
    {
     "data": {
      "text/plain": [
       "1.414213562373095"
      ]
     },
     "execution_count": 6,
     "metadata": {},
     "output_type": "execute_result"
    }
   ],
   "source": [
    "milibreria.metodo_newton(x->x^2-2,x->2*x,1)"
   ]
  },
  {
   "cell_type": "code",
   "execution_count": 11,
   "metadata": {},
   "outputs": [
    {
     "data": {
      "text/plain": [
       "0.3333332499999999"
      ]
     },
     "execution_count": 11,
     "metadata": {},
     "output_type": "execute_result"
    }
   ],
   "source": [
    "milibreria.metodo_rectangulo(x->x^2,0,1,0.001) "
   ]
  },
  {
   "cell_type": "code",
   "execution_count": 32,
   "metadata": {},
   "outputs": [
    {
     "data": {
      "text/plain": [
       "0.33333349999999984"
      ]
     },
     "execution_count": 32,
     "metadata": {},
     "output_type": "execute_result"
    }
   ],
   "source": [
    "milibreria.metodo_trapecio(x->x^2,0,1,0.001)   "
   ]
  },
  {
   "cell_type": "code",
   "execution_count": 12,
   "metadata": {},
   "outputs": [
    {
     "data": {
      "text/plain": [
       "0.3333333333333333"
      ]
     },
     "execution_count": 12,
     "metadata": {},
     "output_type": "execute_result"
    }
   ],
   "source": [
    "milibreria.metodo_simpson(x->x^2,0,1,0.001)"
   ]
  },
  {
   "cell_type": "code",
   "execution_count": 3,
   "metadata": {},
   "outputs": [
    {
     "data": {
      "text/plain": [
       "100-element LinSpace{Float64}:\n",
       " 0.0,0.10101,0.20202,0.30303,0.40404,…,9.59596,9.69697,9.79798,9.89899,10.0"
      ]
     },
     "execution_count": 3,
     "metadata": {},
     "output_type": "execute_result"
    }
   ],
   "source": [
    "t1=linspace(0,10,100)"
   ]
  },
  {
   "cell_type": "code",
   "execution_count": 35,
   "metadata": {},
   "outputs": [
    {
     "data": {
      "text/plain": [
       "f3 (generic function with 1 method)"
      ]
     },
     "execution_count": 35,
     "metadata": {},
     "output_type": "execute_result"
    }
   ],
   "source": [
    "f3(x,t)= [x[2] , - x[1]]"
   ]
  },
  {
   "cell_type": "code",
   "execution_count": 40,
   "metadata": {},
   "outputs": [
    {
     "data": {
      "text/plain": [
       "100-element Array{Any,1}:\n",
       " [1,0]               \n",
       " [1.0,-0.10101]      \n",
       " [0.989797,-0.20202] \n",
       " [0.969391,-0.302]   \n",
       " [0.938886,-0.399918]\n",
       " [0.89849,-0.494755] \n",
       " [0.848515,-0.585511]\n",
       " [0.789372,-0.67122] \n",
       " [0.721572,-0.750955]\n",
       " [0.645718,-0.823841]\n",
       " [0.562502,-0.889065]\n",
       " [0.472698,-0.945883]\n",
       " [0.377154,-0.99363] \n",
       " ⋮                   \n",
       " [-1.31938,-0.838134]\n",
       " [-1.40404,-0.704864]\n",
       " [-1.47523,-0.563042]\n",
       " [-1.53211,-0.414029]\n",
       " [-1.57393,-0.25927] \n",
       " [-1.60012,-0.100288]\n",
       " [-1.61025,0.0613404]\n",
       " [-1.60405,0.223992] \n",
       " [-1.58143,0.386017] \n",
       " [-1.54243,0.545757] \n",
       " [-1.48731,0.701559] \n",
       " [-1.41644,0.851792] "
      ]
     },
     "execution_count": 40,
     "metadata": {},
     "output_type": "execute_result"
    }
   ],
   "source": [
    "milibreria.metodo_euler(f3,[1,0],t1)"
   ]
  },
  {
   "cell_type": "code",
   "execution_count": 37,
   "metadata": {},
   "outputs": [
    {
     "data": {
      "text/plain": [
       "100-element Array{Any,1}:\n",
       " [1,0]                 \n",
       " [0.994903,-0.100838]  \n",
       " [0.979663,-0.200649]  \n",
       " [0.954437,-0.298414]  \n",
       " [0.91948,-0.393136]   \n",
       " [0.87515,-0.483851]   \n",
       " [0.821899,-0.569634]  \n",
       " [0.760268,-0.649609]  \n",
       " [0.690888,-0.722962]  \n",
       " [0.614464,-0.788945]  \n",
       " [0.531776,-0.846885]  \n",
       " [0.443667,-0.896192]  \n",
       " [0.351035,-0.936362]  \n",
       " ⋮                     \n",
       " [-0.859811,-0.510612] \n",
       " [-0.906917,-0.421307] \n",
       " [-0.944778,-0.327708] \n",
       " [-0.973008,-0.230768] \n",
       " [-0.991319,-0.131475] \n",
       " [-0.999524,-0.0308418]\n",
       " [-0.997539,0.0701057] \n",
       " [-0.985385,0.170339]  \n",
       " [-0.963186,0.268835]  \n",
       " [-0.931167,0.364591]  \n",
       " [-0.889656,0.45663]   \n",
       " [-0.839076,0.544013]  "
      ]
     },
     "execution_count": 37,
     "metadata": {},
     "output_type": "execute_result"
    }
   ],
   "source": [
    "milibreria.runge_kutta_4(f3,[1,0],t1)"
   ]
  }
 ],
 "metadata": {
  "kernelspec": {
   "display_name": "Julia 0.5.2",
   "language": "julia",
   "name": "julia-0.5"
  },
  "language_info": {
   "file_extension": ".jl",
   "mimetype": "application/julia",
   "name": "julia",
   "version": "0.5.2"
  }
 },
 "nbformat": 4,
 "nbformat_minor": 2
}
