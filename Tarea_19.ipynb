{
 "cells": [
  {
   "cell_type": "markdown",
   "metadata": {},
   "source": [
    "## Formación del sistema de ecuaciones\n",
    "\n",
    "__Problema de Dirichlet:__ Un problema de Dirichlet consiste en encontrar la solución de una ecuación diferencial parcial donde las condiciones a la frontera estan definidas por el valor del campo.\n",
    "\n",
    "__Ejercicio1__: Escriba la forma del operador laplaciano utilizando diferencias finitas simétricas. Es decir, discretice: $\\nabla^2=\\frac{\\partial^2 f}{\\partial x^2}+\\frac{\\partial^2 f}{\\partial y^2}+\\frac{\\partial^2 f}{\\partial z^2}$\n",
    "\n",
    "Para una dimensión, tenemos que la segunda derivada simétrica esta dada por:\n",
    "\n",
    "$$f''\\approx\\frac{f(x+h)-2f(x)+f(x-h)}{h^2} $$\n",
    "\n",
    "En notación de índices,\n",
    "\n",
    "$$f_{x,i}''= \\frac{f_{x,i+1} - 2 f_{x,i} +f_{x,i-1}}{h_x^2}$$\n",
    "\n",
    "Por lo tanto, para el caso del laplaciano en tres dimensiones tenemos que\n",
    "\n",
    "$$\\nabla^2 f = \\sum_{j} f_i''= \\sum_{j} \\frac{f_{j,i+1} - 2 f_{j,i} +f_{j,i-1}}{h_j^2}$$\n",
    "\n",
    "donde $j=x,y,z$."
   ]
  },
  {
   "cell_type": "markdown",
   "metadata": {},
   "source": [
    "__Ejercicio 2 (condiciones a la frontera de Dirichlet)__. Discretice la ecuación \n",
    "$$ \\frac{d^2f}{dx^2}, $$\n",
    "en el intervalo $[0,1]$, y aplicando el operador laplaciano discretizado obtenga el sistema de ecuaciones algebraicas lineales correspondientes al problema de _Dirichlet_:\n",
    "$f(0) = a$ y $f(1) = b$ dividiendo el intervalo $[0,1]$ en $5$ puntos separados por $h$.\n",
    "\n",
    "* Escriba el sistema lineal de ecuaciones que surge, usando $\\LaTeX$ en el _notebook_ de la tarea que sigue.\n",
    "\n",
    "Tenemos que la segunda derivada simétrica discretizada de una función en una dimensión con separación $h$ entre los puntos está dado por:\n",
    "\n",
    "$$f_i''= \\frac{f_{i+1} - 2 f_i +f_{i-1}}{h^2}$$\n",
    "\n",
    "para $i=1,2,\\dots,5$.\n",
    "\n",
    "Por ello, tomando $h=0.2$, las ecuaciones que resultan son:\n",
    "\n",
    "$$f_2''= 25(f_{3} - 2 f_2 +a)$$\n",
    "$$f_3''= 25(f_{4} - 2 f_3 +f_{2})$$\n",
    "$$f_4''= 25(b - 2 f_4 +f_{3})$$\n",
    "\n",
    "donde $f_1=f(0) = a$ y $f_5=f(1)=b$.\n",
    "\n",
    "__Ejercicio 3 (condiciones a la frontera de Neumann)__. Hacer lo mismo para condiciones de _Neumann_, es decir, fijando en los extremos el valor de la primera derivada de la función. Para esto utilice la derivada _hacia adeltante_ en las orillas, es decir, si $f'(0)=a$ y $f'(1)=b$, entonces $(f_1-f_0)/h=a$, etc. No olvide que debe resultar un sistema de ecuación cuya dimensión sea el número de incognitas.\n",
    "\n",
    "* Escriba el sistema lineal de ecuaciones que surge, usando $\\LaTeX$ en el _notebook_ de la tarea que sigue.\n",
    "\n",
    "Usemos además la derivada hacia atrás para relacionar $f'(1)=f'_5$ con $f_5$ y $f_4$. Entonces, $b = \\frac{f_5-f_4}{h}$. De la segunda derivada simétrica discretizada tenemos que\n",
    "\n",
    "$$f_1''= 25(f_2 - 2 f_1)= 5(5(f_2-f_1-f_1)) = 5(a-5f_1)$$\n",
    "$$f_2''= 25(f_{3} - 2 f_2 +f_1) = 5(5(f_3 - f_2 -f_2 +f_1))= 5(5(f_3-f_2)-a) $$\n",
    "$$f_3''= 25(f_{4} - 2 f_3 +f_{2})$$\n",
    "$$f_4''= 25(f_5 - 2 f_4 +f_{3})$$\n",
    "$$f_5''= 25(-2 f_5 +f_{4}) = 5(-5f_5 -b)$$\n",
    "\n",
    "__Ejercicio 4 (indexación)__. `Julia` es más eficiente\n",
    "si se utiliza un único índice para acceder a los elementos\n",
    "de una matriz, además que puede simplificar algunos problemas. Escribe una función $\\phi$ que traduzca un par de\n",
    "índices $i,j$ a un único índice $k$, es decir:\n",
    "$$\\phi: (i,j) \\mapsto k.$$\n",
    "También encuentren $\\phi^{-1}$. Note que $\\phi$ deberá depender de las dimensiones del arreglo, por lo menos de una de ellas."
   ]
  },
  {
   "cell_type": "markdown",
   "metadata": {},
   "source": [
    "Consideremos una matriz arbitraria $A$ de $n\\times m$. Sea $a_{ij}$ una entrada de la matriz $A$ con $i=1,2,\\dots,n$ y $j=1,2,\\dots,m$. Definimos la función $\\phi$ como\n",
    "\n",
    "$$\\phi(i,j) = j + (i-1)m$$\n",
    "\n",
    "Lo que hace esta función es enumerar a las entradas de una matriz por renglones.\n",
    "\n",
    "Por otro lado, supongamos que tenemos una lista de $k$ valores que queremos escribir como una matriz de $n\\times m$ (suponiendo que $n\\cdot m=k$). Para ello, definimos la función $\\phi^{-1}$ como\n",
    "\n",
    "$$\\phi^{-1}(k) = \\left(\\left \\lceil{\\frac{k}{m}}\\right \\rceil,k- \\left \\lceil{\\frac{k}{m}}\\right \\rceil m\\right) $$\n",
    "\n",
    "lo cual ordena las entradas de la lista en renglones en la matriz."
   ]
  }
 ],
 "metadata": {
  "kernelspec": {
   "display_name": "Julia 0.5.2",
   "language": "julia",
   "name": "julia-0.5"
  },
  "language_info": {
   "file_extension": ".jl",
   "mimetype": "application/julia",
   "name": "julia",
   "version": "0.5.2"
  }
 },
 "nbformat": 4,
 "nbformat_minor": 2
}
