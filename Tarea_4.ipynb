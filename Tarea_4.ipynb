{
 "cells": [
  {
   "cell_type": "markdown",
   "metadata": {
    "collapsed": true
   },
   "source": [
    "# Ejercicio 1 \n",
    "\n",
    "Sea $f(x) = x^3 - x^2 - x -1 $. \n",
    "\n",
    "a.) Queremos hallar la raiz de $f$ usando el método de aproximación de Newton.\n",
    "\n"
   ]
  },
  {
   "cell_type": "code",
   "execution_count": null,
   "metadata": {
    "collapsed": false
   },
   "outputs": [],
   "source": [
    "using PyPlot\n",
    "\n",
    "# Función para graficar los valores de x_k y el valor de la raiz. El valor de la raiz corresponde al ultimo elemento de la lista. El valor x indica la condición inicial y n el número de iteraciones que se desee.\n",
    "\n",
    "function graf_aprox_new(x,n)\n",
    "    aprox=zeros(n); # Definimos la lista que corresponderá a los valores x_k\n",
    "\n",
    "    f(x)= x^3 - x^2 - x - 1; # La función y su derivada\n",
    "    df(x)= 3*x^2 - 2*x -1;\n",
    "    \n",
    "    # Ciclo para la lista de los valores x_n usando el método de Newton\n",
    "    \n",
    "    for i in 1:n \n",
    "        x = x - f(x)/(df(x));\n",
    "        aprox[i]=x;\n",
    "    end\n",
    "   \n",
    "    # Gráfica de los valores de x_n \n",
    "    \n",
    "    \n",
    "    scatter(1:n,aprox);\n",
    "    a = linspace(0,n,100);\n",
    "    b = aprox[n]*ones(length(a));\n",
    "    plot(a,b);\n",
    "    \n",
    "    xlabel(\"Iteración\");\n",
    "    ylabel(\"Valor de x_n\");\n",
    "    title(\"Método de Newton\");\n",
    "    grid(\"on\");\n",
    "    \n",
    "    return show();\n",
    "    \n",
    "end\n",
    "\n",
    "# Función para graficar los valores del error relativo. El valor x indica la condición inicial y n el número de iteraciones que se desee.\n",
    "\n",
    "function graf_error_rel_new(x,n)\n",
    "    \n",
    "    error=zeros(n); # Definimos la lista que corresponderá a los valores de los errores relativos.\n",
    "    \n",
    "    f(x)= x^3 - x^2 - x - 1;\n",
    "    df(x)= 3*x^2 - 2*x -1;\n",
    "    \n",
    "    # Ciclo para generar la lista con los valores del error relativo.\n",
    "    \n",
    "    for i in 1:n\n",
    "        y = x - f(x)/(df(x));\n",
    "        error[i]=abs((x-y)/y);\n",
    "        x = y\n",
    "    end\n",
    "    \n",
    "    # Gráfica de los errores contra su respectivo número de iteración.\n",
    "    \n",
    "    scatter(1:n,error);\n",
    "    \n",
    "    xlabel(\"Iteración\");\n",
    "    ylabel(\"Error relativo\");\n",
    "    title(\"Método de Newton\");\n",
    "    grid(\"on\");\n",
    "    \n",
    "    return show();\n",
    "end\n"
   ]
  },
  {
   "cell_type": "markdown",
   "metadata": {},
   "source": [
    "Graficando el término $x_n$ contra el número de iteraciones así como el error relativo contra el numero de iteraciones para 4 condiciones inciales arbitrarias:"
   ]
  },
  {
   "cell_type": "code",
   "execution_count": null,
   "metadata": {
    "collapsed": false,
    "scrolled": true
   },
   "outputs": [],
   "source": [
    "graf_aprox_new(-5, 60)"
   ]
  },
  {
   "cell_type": "code",
   "execution_count": null,
   "metadata": {
    "collapsed": false,
    "scrolled": true
   },
   "outputs": [],
   "source": [
    "graf_error_rel_new(-5,60)"
   ]
  },
  {
   "cell_type": "code",
   "execution_count": null,
   "metadata": {
    "collapsed": false
   },
   "outputs": [],
   "source": [
    "graf_aprox_new(-75, 50)"
   ]
  },
  {
   "cell_type": "code",
   "execution_count": null,
   "metadata": {
    "collapsed": false
   },
   "outputs": [],
   "source": [
    "graf_error_rel_new(-75, 50)"
   ]
  },
  {
   "cell_type": "code",
   "execution_count": null,
   "metadata": {
    "collapsed": false
   },
   "outputs": [],
   "source": [
    "graf_aprox_new(-10, 50)"
   ]
  },
  {
   "cell_type": "code",
   "execution_count": null,
   "metadata": {
    "collapsed": false
   },
   "outputs": [],
   "source": [
    "graf_error_rel_new(-10, 50)"
   ]
  },
  {
   "cell_type": "code",
   "execution_count": null,
   "metadata": {
    "collapsed": false
   },
   "outputs": [],
   "source": [
    "graf_aprox_new(-200, 60)"
   ]
  },
  {
   "cell_type": "code",
   "execution_count": null,
   "metadata": {
    "collapsed": false
   },
   "outputs": [],
   "source": [
    "graf_error_rel_new(-200, 60)"
   ]
  },
  {
   "cell_type": "markdown",
   "metadata": {
    "collapsed": true
   },
   "source": [
    "b) Hallar la raiz de $f$ usando el método de aproximación de Newton."
   ]
  },
  {
   "cell_type": "code",
   "execution_count": null,
   "metadata": {
    "collapsed": false
   },
   "outputs": [],
   "source": [
    "using PyPlot\n",
    "\n",
    "# Función para graficar los valores de p_n y el valor de la raiz. El valor de la raiz corresponde al ultimo elemento de la lista. Los valores a, b, con a < b indican las condiciones iniciales que son los extremos del intervalo y n el número de iteraciones que se desee.\n",
    "\n",
    "function graf_aprox_bis(a,b,n)\n",
    "    \n",
    "    aprox=zeros(n); # Definimos la lista que corresponderá a los valores x_k\n",
    "\n",
    "    f(x)= x^3 - x^2 - x - 1; # La función\n",
    "    \n",
    "    p = (a+b)/2;\n",
    "\n",
    "    # Ciclo para la lista de los valores x_n usando el método de bisección\n",
    "    \n",
    "    for i in 1:n \n",
    "        if f(a)*f(p) > 0\n",
    "            a = p\n",
    "        end\n",
    "        \n",
    "        if f(b)*f(p) > 0\n",
    "            b = p\n",
    "        end\n",
    "        aprox[i]=p;\n",
    "        p = (a+b)/2\n",
    "    end\n",
    "   \n",
    "    # Gráfica de los valores de p_n \n",
    "    \n",
    "    scatter(1:n,aprox);\n",
    "    a = linspace(0,n,100);\n",
    "    b = aprox[n]*ones(length(a));\n",
    "    plot(a,b);\n",
    "    \n",
    "    xlabel(\"Iteración\");\n",
    "    ylabel(\"Valor de p_n\");\n",
    "    title(\"Método de Bisección\");\n",
    "    grid(\"on\");\n",
    "    \n",
    "    return show();\n",
    "    \n",
    "end\n",
    "\n",
    "# Función para graficar los valores del error relativo. Los valores a, b, con a < b indican las condiciones iniciales que son los extremos del intervalo y n el número de iteraciones que se desee.\n",
    "\n",
    "function graf_error_rel_bis(a,b,n)\n",
    "    \n",
    "    error=zeros(n); # Definimos la lista que corresponderá a los valores de los errores relativos.\n",
    "    \n",
    "    f(x)= x^3 - x^2 - x - 1;\n",
    "    \n",
    "    p = (a+b)/2;\n",
    "    \n",
    "    # Ciclo para generar la lista con los valores del error relativo.\n",
    "    \n",
    "    for i in 1:n\n",
    "        if  f(a)*f(p) > 0\n",
    "            a = p\n",
    "        end\n",
    "        \n",
    "        if f(b)*f(p) > 0\n",
    "            b = p\n",
    "        end\n",
    "        \n",
    "        error[i]=abs(((a+b)/2 - p)/p);\n",
    "        p = (a+b)/2\n",
    "        \n",
    "    end\n",
    "    \n",
    "    # Gráfica de los errores contra su respectivo número de iteración.\n",
    "    \n",
    "    scatter(1:n,error);\n",
    "    \n",
    "    xlabel(\"Iteración\");\n",
    "    ylabel(\"Error relativo\");\n",
    "    title(\"Método de Bisección\");\n",
    "    grid(\"on\");\n",
    "    \n",
    "    return show();\n",
    "end"
   ]
  },
  {
   "cell_type": "code",
   "execution_count": null,
   "metadata": {
    "collapsed": false
   },
   "outputs": [],
   "source": [
    "Como con el método de Newton, se hacen las gráficas para 4 intervalos arbitrarios (que contenga a la raiz):"
   ]
  },
  {
   "cell_type": "code",
   "execution_count": null,
   "metadata": {
    "collapsed": false
   },
   "outputs": [],
   "source": [
    "graf_aprox_bis(-1, 100, 30)"
   ]
  },
  {
   "cell_type": "code",
   "execution_count": null,
   "metadata": {
    "collapsed": false,
    "scrolled": true
   },
   "outputs": [],
   "source": [
    "graf_error_rel_bis(-1, 100, 30)"
   ]
  },
  {
   "cell_type": "code",
   "execution_count": null,
   "metadata": {
    "collapsed": false
   },
   "outputs": [],
   "source": [
    "graf_aprox_bis(-25, 25, 30)"
   ]
  },
  {
   "cell_type": "code",
   "execution_count": null,
   "metadata": {
    "collapsed": false
   },
   "outputs": [],
   "source": [
    "graf_error_rel_bis(-25, 25, 30)"
   ]
  },
  {
   "cell_type": "code",
   "execution_count": null,
   "metadata": {
    "collapsed": false
   },
   "outputs": [],
   "source": [
    "graf_aprox_bis(-27, 10, 30)"
   ]
  },
  {
   "cell_type": "code",
   "execution_count": null,
   "metadata": {
    "collapsed": false
   },
   "outputs": [],
   "source": [
    "graf_error_rel_bis(-27, 10, 30)"
   ]
  },
  {
   "cell_type": "code",
   "execution_count": null,
   "metadata": {
    "collapsed": false
   },
   "outputs": [],
   "source": [
    "graf_aprox_bis(0, 10, 30)"
   ]
  },
  {
   "cell_type": "code",
   "execution_count": null,
   "metadata": {
    "collapsed": false
   },
   "outputs": [],
   "source": [
    "graf_error_rel_bis(0, 10, 30)"
   ]
  },
  {
   "cell_type": "markdown",
   "metadata": {},
   "source": [
    "# Ejercicio 2\n",
    "\n"
   ]
  },
  {
   "cell_type": "markdown",
   "metadata": {},
   "source": [
    "a) Hacer un programa del método de Newton donde la función $f$, $df/dx$ y $x_0$ son los parámetros."
   ]
  },
  {
   "cell_type": "code",
   "execution_count": 10,
   "metadata": {
    "collapsed": false
   },
   "outputs": [
    {
     "data": {
      "text/plain": [
       "df (generic function with 1 method)"
      ]
     },
     "execution_count": 10,
     "metadata": {},
     "output_type": "execute_result"
    }
   ],
   "source": [
    "# Se define la función cuya raiz se quiere encontrar así como su derivada\n",
    "\n",
    "f(x)= x^3 - x^2 - x - 1\n",
    "df(x) = 3x^2 - 2x - 1"
   ]
  },
  {
   "cell_type": "code",
   "execution_count": 11,
   "metadata": {
    "collapsed": false
   },
   "outputs": [
    {
     "data": {
      "text/plain": [
       "metodo_newton_2 (generic function with 1 method)"
      ]
     },
     "execution_count": 11,
     "metadata": {},
     "output_type": "execute_result"
    }
   ],
   "source": [
    "# Método de newton cuyos parámetros con: la función f, su derivada df, una condición inicial x0 y el número de iteraciones n. El valor que regresa es la raiz.\n",
    "\n",
    "function metodo_newton_2(f,df,x0,n)\n",
    "    x = x0\n",
    "    for i in 1:n\n",
    "        x = x - f(x)/df(x)\n",
    "    end\n",
    "    return x\n",
    "end\n",
    "        "
   ]
  },
  {
   "cell_type": "code",
   "execution_count": 12,
   "metadata": {
    "collapsed": false
   },
   "outputs": [
    {
     "data": {
      "text/plain": [
       "1.8392867552141612"
      ]
     },
     "execution_count": 12,
     "metadata": {},
     "output_type": "execute_result"
    }
   ],
   "source": [
    "metodo_newton_2(f,df,2, 10)"
   ]
  },
  {
   "cell_type": "markdown",
   "metadata": {},
   "source": [
    "b) Reemplazar la condición inicial por un rango de condiciones iniciales.\n",
    "\n",
    "Definamos el rango de condiciones iniciales como:"
   ]
  },
  {
   "cell_type": "code",
   "execution_count": 13,
   "metadata": {
    "collapsed": false
   },
   "outputs": [
    {
     "data": {
      "text/plain": [
       "0.0:0.10101010101010101:10.0"
      ]
     },
     "execution_count": 13,
     "metadata": {},
     "output_type": "execute_result"
    }
   ],
   "source": [
    "y=linspace(0.0,10.0,100)"
   ]
  },
  {
   "cell_type": "code",
   "execution_count": 14,
   "metadata": {
    "collapsed": false
   },
   "outputs": [
    {
     "data": {
      "text/plain": [
       "100-element Array{Float64,1}:\n",
       "  1.96144  \n",
       " -1.80781  \n",
       "  0.192081 \n",
       "  1.83936  \n",
       " -0.0443234\n",
       "  3.01632  \n",
       " -0.395615 \n",
       "  4.21416  \n",
       "  0.613405 \n",
       " -0.537171 \n",
       "  2.0553   \n",
       "  1.83929  \n",
       "  1.83929  \n",
       "  ⋮        \n",
       "  1.83929  \n",
       "  1.83929  \n",
       "  1.83929  \n",
       "  1.83929  \n",
       "  1.83929  \n",
       "  1.83929  \n",
       "  1.83929  \n",
       "  1.83929  \n",
       "  1.83929  \n",
       "  1.83929  \n",
       "  1.83929  \n",
       "  1.83929  "
      ]
     },
     "execution_count": 14,
     "metadata": {},
     "output_type": "execute_result"
    }
   ],
   "source": [
    "metodo_newton_2.(f,df,y,10)"
   ]
  },
  {
   "cell_type": "markdown",
   "metadata": {},
   "source": [
    "c) Ahora, el método de Newton cuyas condiciones iniciales están dadas por un `linspace` y muestre un arreglo los términos cuya diferencia a la raiz sea menor a e. Definamos el rango de condiciones como:"
   ]
  },
  {
   "cell_type": "code",
   "execution_count": 15,
   "metadata": {
    "collapsed": false
   },
   "outputs": [
    {
     "data": {
      "text/plain": [
       "0.0:0.30303030303030304:30.0"
      ]
     },
     "execution_count": 15,
     "metadata": {},
     "output_type": "execute_result"
    }
   ],
   "source": [
    "z = linspace(0,30,100)"
   ]
  },
  {
   "cell_type": "code",
   "execution_count": 16,
   "metadata": {
    "collapsed": false
   },
   "outputs": [
    {
     "data": {
      "text/plain": [
       "metodo_newton_3 (generic function with 1 method)"
      ]
     },
     "execution_count": 16,
     "metadata": {},
     "output_type": "execute_result"
    }
   ],
   "source": [
    "# Buscamos la raices diferentes entre si que además su diferencia de la raiz real es menor a un número e. Lo siguiente es para eliminar las raices repetidas del arreglo anterior.\n",
    "\n",
    "function metodo_newton_3(z,e)\n",
    "    \n",
    "    arreglo = metodo_newton_2.(f,df,z,100)\n",
    "    t=[]\n",
    "    \n",
    "    push!(t,arreglo[1])\n",
    "        for i in 1:length(arreglo)\n",
    "        indice = 0\n",
    "        \n",
    "        for j in 1:length(t)\n",
    "            \n",
    "            if arreglo[i] > t[j] + e\n",
    "                indice = indice + 1\n",
    "            end\n",
    "            \n",
    "            if arreglo[i] < t[j] -e\n",
    "                indice = indice + 1\n",
    "            end\n",
    "        end\n",
    "        \n",
    "        if indice == length(t)\n",
    "            push!(t,arreglo[i])\n",
    "        end\n",
    "    end\n",
    "return t\n",
    "end"
   ]
  },
  {
   "cell_type": "code",
   "execution_count": 17,
   "metadata": {
    "collapsed": false
   },
   "outputs": [
    {
     "data": {
      "text/plain": [
       "1-element Array{Any,1}:\n",
       " 1.83929"
      ]
     },
     "execution_count": 17,
     "metadata": {},
     "output_type": "execute_result"
    }
   ],
   "source": [
    "metodo_newton_3(z,0.00000001)"
   ]
  }
 ],
 "metadata": {
  "kernelspec": {
   "display_name": "Julia 0.6.0",
   "language": "julia",
   "name": "julia-0.6"
  },
  "language_info": {
   "file_extension": ".jl",
   "mimetype": "application/julia",
   "name": "julia",
   "version": "0.6.0"
  }
 },
 "nbformat": 4,
 "nbformat_minor": 2
}
