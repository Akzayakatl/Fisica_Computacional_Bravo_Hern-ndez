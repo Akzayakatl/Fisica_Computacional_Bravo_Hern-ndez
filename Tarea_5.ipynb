{
 "cells": [
  {
   "cell_type": "markdown",
   "metadata": {},
   "source": [
    "## Integral de Riemann\n",
    "\n",
    "La integral de Riemann fue creada por Bernhard Riemann la cual fue presentada en 1854. La integral puede ser evaluada usando el teorema fundamental del cálculo o aproximada usando métodos númericos.\n",
    "\n",
    "Sea $f$ una función no negativa de los reales a los reales en el intervalo $[a,b]$. Definimos\n",
    "\n",
    "$$ S = \\{(x,y):a \\leq x \\leq b, 0 < y < f(x)\\} $$\n",
    "\n",
    "como la región del plano que se encuentra entre la función $f$ y el intervalo $[a,b]$. Buscamos calcular el área de $S$ y si existe, lo denotamos por\n",
    "\n",
    "$$S = \\int_a^b f(x)\\, dx .$$\n",
    "\n",
    "Sea $[a,b]$ un intervalo. Una partición de $[a,b]$ es una secuencia finita de números de la forma:\n",
    "\n",
    "$$ a = x_0 < x_1 < \\dots < x_n = b $$\n",
    "\n",
    "Cada $[x_i, x_{i+1}]$ se le llama subintervalo de la partición.\n",
    "\n",
    "Definimos la norma de la partición como la longitud del subintervalo más largo, esto es,\n",
    "\n",
    "$$ \\text{máx}(x_{i+1} - x_i) $$\n",
    "\n",
    "para  $i \\in [0,n-1]$.\n",
    "\n",
    "Por otro lado, definimos la partición etiquetada como una partición $\\{x_i\\}$ con una secuencia finita de números $t_0, \\dots, t_{n-1} \\in [a,b]$ tales que para $i=0,\\dots , n-1$, $t_i \\in [x_i, x_{i+1}]$.\n",
    "\n",
    "Con esto, podemos definir la suma de Riemann de $f$ en el intervalo $[a,b]$ respecto a la partición etiquetada $x_0, \\dots, x_{n-1}$ con sus respectivos valores $t_0, \\dots, t_{n-1}$ como:\n",
    "\n",
    "$$ \\sum_{i=0}^{n-1} f(t_i)(x_{i+1} - x_i).$$\n",
    "\n",
    "Decimos que la integral de $f$ es igual a $S$ si se cumple que: Para toda $\\epsilon > 0$ existe $\\delta > 0$ tal que para toda partición etiquetada $x_0, \\dots, x_n$ y $t_0, \\dots, t_{n_1}$ cuya norma es menor que $\\delta$ se satisface\n",
    "\n",
    "$$\\left| \\sum_{i=0}^{n-1} f(t_i)(x_{i+1} - x_i) - S\\right| < \\epsilon. $$\n",
    "\n",
    "\n"
   ]
  },
  {
   "cell_type": "markdown",
   "metadata": {},
   "source": [
    "## Método del trapecio\n",
    "\n",
    "El método del trapecio es un método que sirve para aproximar la integral definida\n",
    "\n",
    "$$\\int_a^b f(x)\\, dx.$$\n",
    "\n",
    "Este método aproxima la región entre la función $f$ y el intervalo $[a,b]$ como si fuera un trapecio. Matemáticamente esto se escribe como\n",
    "\n",
    "$$\\int_a^b f(x)\\, dx \\approx (b-a)\\left[\\frac{f(a) + f(b)}{2}\\right]. $$\n",
    "\n",
    "Para obtener una mejor aproximación de la integral definida, se puede hacer una partición del intervalo y aplicar el método del trapecio en cada uno de los subintervalos.\n",
    "\n",
    "Sea $\\{x_n\\}$ una partición de $[a,b]$ tal que $a=x_0<x_1< \\dots < x_{N-1} < x_N = b$ y sea $\\Delta x_n = x_n - x_{n-1}$ la longitud del n-ésimo intervalo. Entonces, la integral se puede calcular con la siguiente aproximación:\n",
    "\n",
    "$$\\int_a^b f(x) \\, dx \\approx \\sum_{n=1}^N \\frac{f(x_{n-1}) + f(x_n)}{2}\\Delta x_n $$\n",
    "\n",
    "La aproximación se acerca más al valor real mientras mayor sea $N$."
   ]
  },
  {
   "cell_type": "markdown",
   "metadata": {},
   "source": [
    "# Método de Simpson\n",
    "\n",
    "Este método para aproximar integral definidas se le atribuye al matemático Thomas Simpson.\n",
    "\n",
    "Una de las derivaciones de este método consiste en reemplazar el integrando $f(x)$ por un polinomio cuadrático $P(x)$ que pasa por los puntos $(a,f(a))$ y $(b, f(b))$, así como el punto medio $(m,f(m))$ donde $m = \\frac{(a+b)}{2}$.\n",
    "\n",
    "Se puede obtener el polinomio $P(x)$ usando la interpolación polinómica de Lagrange la cual es de la forma\n",
    "\n",
    "$$ P(x) = f(a)\\frac{(x-m)(x-b)}{(a-m)(a-b)} + f(m)\\frac{(x-a)(x-b)}{(m-a)(m-b)} +f(b)\\frac{(x-a)(x-m)}{(b-a)(b-m)} $$\n",
    "\n",
    "Integrando se obtiene que\n",
    "\n",
    "$$ \\int_a^b f(x) \\, dx  \\approx \\int_a^b P(x) \\, dx  =  \\frac{b-a}{6}\\left[f(a) + 4f\\left(\\frac{a+b}{2}\\right) + f(b) \\right] $$\n",
    "\n",
    "El error en la aproximación de este metodo esta dado por\n",
    "\n",
    "$$ \\frac{1}{90} \\left(\\frac{b-a}{2}\\right)^5 |f^{(4)}(\\xi)| $$\n",
    "\n",
    "donde $\\xi$ es un valor en el intervalo $[a,b]$."
   ]
  }
 ],
 "metadata": {
  "kernelspec": {
   "display_name": "Julia 0.6.0",
   "language": "julia",
   "name": "julia-0.6"
  },
  "language_info": {
   "file_extension": ".jl",
   "mimetype": "application/julia",
   "name": "julia",
   "version": "0.6.0"
  }
 },
 "nbformat": 4,
 "nbformat_minor": 2
}
