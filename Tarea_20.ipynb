{
 "cells": [
  {
   "cell_type": "markdown",
   "metadata": {},
   "source": [
    "## Formación del sistema de ecuaciones\n",
    "\n",
    "Como recuerda, su tarea básicamente consistió en encontrar el sistema de ecuaciones proveniente de la discretización de una ecuación de Laplace, con problemas a la frontera de Dirichlet y von Neumann. El siguiente ejemplo es lo mismo, pero en esta ocasión para un sistema bidimensional. \n",
    "\n",
    "### Ejemplo \n",
    "\n",
    "Para una malla de 5 por 7 resolver la ecuación de Laplace utilizando las condiciones  a la frontera siguiente: en la parte superior, toma los valores\n",
    "$\\{0, 70.7107, 100., 70.7107, 0\\}$ y en el resto de bordes es cero. El sistema\n",
    "de ecuaciones es el siguiente\n",
    "\n",
    "\n",
    "\\begin{align*}\n",
    "-4 f_{2,2}+f_{2,3}+f_{3,2}=0,\\\\f_{2,2}-4 f_{2,3}+f_{2,4}+f_{3,3}=0,\\\\f_{2,3}-4 f_{2,4}+f_{2,5}+f_{3,4}=0,\\\\f_{2,4}-4\n",
    "   f_{2,5}+f_{2,6}+f_{3,5}=0,\\\\f_{2,5}-4 f_{2,6}+f_{3,6}+70.7107=0,\\\\f_{2,2}-4 f_{3,2}+f_{3,3}+f_{4,2}=0,\\\\f_{2,3}+f_{3,2}-4\n",
    "   f_{3,3}+f_{3,4}+f_{4,3}=0,\\\\f_{2,4}+f_{3,3}-4 f_{3,4}+f_{3,5}+f_{4,4}=0,\\\\f_{2,5}+f_{3,4}-4 f_{3,5}+f_{3,6}+f_{4,5}=0,\\\\f_{2,6}+f_{3,5}-4\n",
    "   f_{3,6}+f_{4,6}+100.=0,\\\\f_{3,2}-4 f_{4,2}+f_{4,3}=0,\\\\f_{3,3}+f_{4,2}-4 f_{4,3}+f_{4,4}=0,\\\\f_{3,4}+f_{4,3}-4 f_{4,4}+f_{4,5}=0,\\\\f_{3,5}+f_{4,4}-4\n",
    "   f_{4,5}+f_{4,6}=0,\\\\f_{3,6}+f_{4,5}-4 f_{4,6}+70.7107=0.\n",
    "\\end{align*}\n",
    "\n",
    "El sistema de ecuaciones resultante es $A \\vec f +\\vec b= \\vec 0$ con $A$ igual a la siguiente matriz\n",
    "\n",
    "$$\n",
    "\\left(\n",
    "\\begin{array}{ccccccccccccccc}\n",
    " -4. & 1. & 0 & 0 & 0 & 1. & 0 & 0 & 0 & 0 & 0 & 0 & 0 & 0 & 0 \\\\\n",
    " 1. & -4. & 1. & 0 & 0 & 0 & 1. & 0 & 0 & 0 & 0 & 0 & 0 & 0 & 0 \\\\\n",
    " 0 & 1. & -4. & 1. & 0 & 0 & 0 & 1. & 0 & 0 & 0 & 0 & 0 & 0 & 0 \\\\\n",
    " 0 & 0 & 1. & -4. & 1. & 0 & 0 & 0 & 1. & 0 & 0 & 0 & 0 & 0 & 0 \\\\\n",
    " 0 & 0 & 0 & 1. & -4. & 0 & 0 & 0 & 0 & 1. & 0 & 0 & 0 & 0 & 0 \\\\\n",
    " 1. & 0 & 0 & 0 & 0 & -4. & 1. & 0 & 0 & 0 & 1. & 0 & 0 & 0 & 0 \\\\\n",
    " 0 & 1. & 0 & 0 & 0 & 1. & -4. & 1. & 0 & 0 & 0 & 1. & 0 & 0 & 0 \\\\\n",
    " 0 & 0 & 1. & 0 & 0 & 0 & 1. & -4. & 1. & 0 & 0 & 0 & 1. & 0 & 0 \\\\\n",
    " 0 & 0 & 0 & 1. & 0 & 0 & 0 & 1. & -4. & 1. & 0 & 0 & 0 & 1. & 0 \\\\\n",
    " 0 & 0 & 0 & 0 & 1. & 0 & 0 & 0 & 1. & -4. & 0 & 0 & 0 & 0 & 1. \\\\\n",
    " 0 & 0 & 0 & 0 & 0 & 1. & 0 & 0 & 0 & 0 & -4. & 1. & 0 & 0 & 0 \\\\\n",
    " 0 & 0 & 0 & 0 & 0 & 0 & 1. & 0 & 0 & 0 & 1. & -4. & 1. & 0 & 0 \\\\\n",
    " 0 & 0 & 0 & 0 & 0 & 0 & 0 & 1. & 0 & 0 & 0 & 1. & -4. & 1. & 0 \\\\\n",
    " 0 & 0 & 0 & 0 & 0 & 0 & 0 & 0 & 1. & 0 & 0 & 0 & 1. & -4. & 1. \\\\\n",
    " 0 & 0 & 0 & 0 & 0 & 0 & 0 & 0 & 0 & 1. & 0 & 0 & 0 & 1. & -4. \\\\\n",
    "\\end{array}\n",
    "\\right)\n",
    "$$\n",
    "y $b$ de la forma\n",
    "\n",
    "$$\n",
    "(0.,0.,0.,0.,70.7107,0.,0.,0.,0.,100.,0.,0.,0.,0.,70.7107)^T.\n",
    "$$\n",
    "\n",
    "La solución a este sistema es $\\vec f=-A^{-1}\\vec b$.\n",
    "\n",
    "__Ejercicio 1:__ Crear una rutina que construya $A$ y $\\vec b$ para este sistema. Resuelvalo utilizando la función `inv` y grafique $\\vec f$ utilizando la funcion `pcolormesh`. Recuerde que aqui $\\vec f$ es un vector, para volverlo de nuevo una matriz con entradas $f_{i,j}$ pueden usar la función `reshape`."
   ]
  },
  {
   "cell_type": "code",
   "execution_count": 1,
   "metadata": {},
   "outputs": [
    {
     "data": {
      "text/plain": [
       "F (generic function with 1 method)"
      ]
     },
     "execution_count": 1,
     "metadata": {},
     "output_type": "execute_result"
    }
   ],
   "source": [
    "#Escribamos nuestro sistema de ecuaciones dada por la discretización del laplaciano en dos dimensiones:\n",
    "# Definimos a cada entrada f_i,j como una variable x_k. Además, definimos por un lado las ecuaciones con variables f_k por un vector x y a las condiciones de frontera por otro vector y. Para recuperar la matriz A tomamos y=0 y para recuperar solo las condiciones iniciales, tomamos x=0. \n",
    "\n",
    "F(x,y) = [-4*(x[1])+x[2]+x[6],x[1]-4*(x[2])+x[3]+x[7],x[2]-4*(x[3])+x[4]+x[8],x[3]-4*(x[4])+x[5]+x[9],x[4]-4*(x[5])+x[10]+70.7107*(y[1]),x[1]-4*(x[6])+x[7]+x[11],x[2]-4*(x[7])+x[6]+x[8]+x[12],x[3]-4*(x[8])+x[7]+x[9]+x[13],x[4]-4*(x[9])+x[8]+x[10]+x[14],x[5]-4*(x[10])+x[9]+x[15]+100*(y[1]),x[6]-4*(x[11])+x[12],x[7]-4*(x[12])+x[11]+x[13],x[8]-4*(x[13])+x[12]+x[14],x[9]-4*(x[14])+x[13]+x[15],x[10]-4*(x[15])+x[14]+(70.7107)*(y[1])]"
   ]
  },
  {
   "cell_type": "code",
   "execution_count": 2,
   "metadata": {},
   "outputs": [
    {
     "data": {
      "text/plain": [
       "matriz (generic function with 1 method)"
      ]
     },
     "execution_count": 2,
     "metadata": {},
     "output_type": "execute_result"
    }
   ],
   "source": [
    "function matriz(f,n)\n",
    "    A = zeros(n,n) # Definimos nuestra matriz que contendrá los coeficientes correspondientes al sistema de ecuaciones.\n",
    "    y = 0 # Definimos nuestro vector y=0 ya que por el momento no nos interesa las condiciones de frontera.\n",
    "        \n",
    "        # Definimos un for para calcular los coeficientes de cada renglón\n",
    "        for i in 1:n \n",
    "            x = zeros(n) # Definimos nuestro vector x como un vector nulo.\n",
    "            x[i] = 1 # Tomamos la entrada i-ésima como 1. Esto nos regresa el coeficiente de la variable i.\n",
    "\n",
    "            B = f(x,y)\n",
    "            A[i,:] = B # Este vector renglón lo insertamos como en renglón i-ésimo de nuestra matriz A.\n",
    "        end\n",
    "\n",
    "return A\n",
    "end"
   ]
  },
  {
   "cell_type": "code",
   "execution_count": 3,
   "metadata": {},
   "outputs": [
    {
     "data": {
      "text/plain": [
       "15×15 Array{Float64,2}:\n",
       " -4.0   1.0   0.0   0.0   0.0   1.0  …   0.0   0.0   0.0   0.0   0.0   0.0\n",
       "  1.0  -4.0   1.0   0.0   0.0   0.0      0.0   0.0   0.0   0.0   0.0   0.0\n",
       "  0.0   1.0  -4.0   1.0   0.0   0.0      0.0   0.0   0.0   0.0   0.0   0.0\n",
       "  0.0   0.0   1.0  -4.0   1.0   0.0      0.0   0.0   0.0   0.0   0.0   0.0\n",
       "  0.0   0.0   0.0   1.0  -4.0   0.0      1.0   0.0   0.0   0.0   0.0   0.0\n",
       "  1.0   0.0   0.0   0.0   0.0  -4.0  …   0.0   1.0   0.0   0.0   0.0   0.0\n",
       "  0.0   1.0   0.0   0.0   0.0   1.0      0.0   0.0   1.0   0.0   0.0   0.0\n",
       "  0.0   0.0   1.0   0.0   0.0   0.0      0.0   0.0   0.0   1.0   0.0   0.0\n",
       "  0.0   0.0   0.0   1.0   0.0   0.0      1.0   0.0   0.0   0.0   1.0   0.0\n",
       "  0.0   0.0   0.0   0.0   1.0   0.0     -4.0   0.0   0.0   0.0   0.0   1.0\n",
       "  0.0   0.0   0.0   0.0   0.0   1.0  …   0.0  -4.0   1.0   0.0   0.0   0.0\n",
       "  0.0   0.0   0.0   0.0   0.0   0.0      0.0   1.0  -4.0   1.0   0.0   0.0\n",
       "  0.0   0.0   0.0   0.0   0.0   0.0      0.0   0.0   1.0  -4.0   1.0   0.0\n",
       "  0.0   0.0   0.0   0.0   0.0   0.0      0.0   0.0   0.0   1.0  -4.0   1.0\n",
       "  0.0   0.0   0.0   0.0   0.0   0.0      1.0   0.0   0.0   0.0   1.0  -4.0"
      ]
     },
     "execution_count": 3,
     "metadata": {},
     "output_type": "execute_result"
    }
   ],
   "source": [
    "A = matriz(F,15)"
   ]
  },
  {
   "cell_type": "code",
   "execution_count": 4,
   "metadata": {},
   "outputs": [
    {
     "data": {
      "text/plain": [
       "cond_i (generic function with 1 method)"
      ]
     },
     "execution_count": 4,
     "metadata": {},
     "output_type": "execute_result"
    }
   ],
   "source": [
    "# Ahora definimos una función para obtener nuestro vector b que define las condiciones iniciales del sistema:\n",
    "\n",
    "function cond_i(f,n)\n",
    "    x = zeros(n)\n",
    "    y = 1\n",
    "    \n",
    "    A = f(x,y)\n",
    "    return A\n",
    "end"
   ]
  },
  {
   "cell_type": "code",
   "execution_count": 5,
   "metadata": {},
   "outputs": [
    {
     "data": {
      "text/plain": [
       "15-element Array{Float64,1}:\n",
       "   0.0   \n",
       "   0.0   \n",
       "   0.0   \n",
       "   0.0   \n",
       "  70.7107\n",
       "   0.0   \n",
       "   0.0   \n",
       "   0.0   \n",
       "   0.0   \n",
       " 100.0   \n",
       "   0.0   \n",
       "   0.0   \n",
       "   0.0   \n",
       "   0.0   \n",
       "  70.7107"
      ]
     },
     "execution_count": 5,
     "metadata": {},
     "output_type": "execute_result"
    }
   ],
   "source": [
    "b = cond_i(F,15)"
   ]
  },
  {
   "cell_type": "code",
   "execution_count": 6,
   "metadata": {},
   "outputs": [
    {
     "data": {
      "text/plain": [
       "15-element Array{Float64,1}:\n",
       "  1.30459\n",
       "  3.37339\n",
       "  7.41827\n",
       " 15.8087 \n",
       " 33.4596 \n",
       "  1.84497\n",
       "  4.77069\n",
       " 10.491  \n",
       " 22.3568 \n",
       " 47.319  \n",
       "  1.30459\n",
       "  3.37339\n",
       "  7.41827\n",
       " 15.8087 \n",
       " 33.4596 "
      ]
     },
     "execution_count": 6,
     "metadata": {},
     "output_type": "execute_result"
    }
   ],
   "source": [
    "f = -inv(A)*b"
   ]
  },
  {
   "cell_type": "code",
   "execution_count": 7,
   "metadata": {},
   "outputs": [
    {
     "data": {
      "text/plain": [
       "5×3 Array{Float64,2}:\n",
       "  1.30459   1.84497   1.30459\n",
       "  3.37339   4.77069   3.37339\n",
       "  7.41827  10.491     7.41827\n",
       " 15.8087   22.3568   15.8087 \n",
       " 33.4596   47.319    33.4596 "
      ]
     },
     "execution_count": 7,
     "metadata": {},
     "output_type": "execute_result"
    }
   ],
   "source": [
    "M = reshape(f,(5,3))"
   ]
  },
  {
   "cell_type": "code",
   "execution_count": 8,
   "metadata": {},
   "outputs": [],
   "source": [
    "using PyPlot"
   ]
  },
  {
   "cell_type": "code",
   "execution_count": 9,
   "metadata": {},
   "outputs": [
    {
     "data": {
      "image/png": "[encoded data removed]",
      "text/plain": [
       "PyPlot.Figure(PyObject <matplotlib.figure.Figure object at 0x7faf50b7a290>)"
      ]
     },
     "metadata": {},
     "output_type": "display_data"
    },
    {
     "data": {
      "text/plain": [
       "PyObject <matplotlib.collections.QuadMesh object at 0x7faf4eb21210>"
      ]
     },
     "execution_count": 9,
     "metadata": {},
     "output_type": "execute_result"
    }
   ],
   "source": [
    "pcolormesh(M)"
   ]
  },
  {
   "cell_type": "markdown",
   "metadata": {},
   "source": [
    "# Solución de la ecuación de calor\n",
    "\n",
    "# Método de relajación (o iteración)\n",
    "\n",
    "__ Ejercicio 2:__ Resolver ecuación de Poisson unidimensional con $\\rho (x)=\\cos(x)$, en el dominio $[0,2 \\pi]$, utilizando una malla con 12 puntos. Aquí nuevamente hay 10 incognitas, sin embargo note que para el método es mas conveniente definir $\\vec b$ incluyendo las condiciones de frontera."
   ]
  },
  {
   "cell_type": "code",
   "execution_count": 10,
   "metadata": {},
   "outputs": [
    {
     "data": {
      "text/plain": [
       "12-element LinSpace{Float64}:\n",
       " 0.0,0.571199,1.1424,1.7136,2.28479,2.85599,…,4.56959,5.14079,5.71199,6.28319"
      ]
     },
     "execution_count": 10,
     "metadata": {},
     "output_type": "execute_result"
    }
   ],
   "source": [
    "t = linspace(0,2*pi,12)"
   ]
  },
  {
   "cell_type": "markdown",
   "metadata": {},
   "source": [
    "Tenemos que el sistema de ecuaciones de nuestro problema está dado por:\n",
    "\n",
    "$$ f_3 -2f_2 + f_1 -h^2 \\cos(x_2) = 0$$\n",
    "$$ f_4 -2f_3 + f_2 -h^2 \\cos(x_3) = 0$$\n",
    "$$ f_5 -2f_4 + f_3 -h^2 \\cos(x_4) = 0$$\n",
    "$$ f_6 -2f_5 + f_4 -h^2 \\cos(x_5) = 0$$\n",
    "$$ f_7 -2f_6 + f_5 -h^2 \\cos(x_6) = 0$$\n",
    "$$ f_8 -2f_7 + f_6 -h^2 \\cos(x_7) = 0$$\n",
    "$$ f_9 -2f_8 + f_7 -h^2 \\cos(x_8) = 0$$\n",
    "$$ f_{10} -2f_9 + f_8 -h^2 \\cos(x_9) = 0$$\n",
    "$$ f_{11} -2f_{10} + f_9 -h^2 \\cos(x_{10}) = 0$$\n",
    "$$ f_{12} -2f_{11} + f_{10} -h^2 \\cos(x_{11}) = 0$$\n",
    "\n",
    "donde $h=2\\pi/12$ y $f_i=f(x_i)$. Tomemos las condiciones de frontera $f(0)=f_1 = 0$ y $f_{12}=f(2\\pi)=0$."
   ]
  },
  {
   "cell_type": "code",
   "execution_count": 17,
   "metadata": {},
   "outputs": [
    {
     "name": "stderr",
     "output_type": "stream",
     "text": [
      "WARNING: Method definition V(Any, Any) in module Main at In[11]:3 overwritten at In[17]:3.\n"
     ]
    },
    {
     "data": {
      "text/plain": [
       "V (generic function with 1 method)"
      ]
     },
     "execution_count": 17,
     "metadata": {},
     "output_type": "execute_result"
    }
   ],
   "source": [
    "# Escribimos nuestra función que representa nuestro sistema de ecuaciones:\n",
    "\n",
    "V(x,y) = [x[2]-2*x[1]-((2*pi/12)^2)*cos(t[2])*(y[1]),x[3]-2*x[2]+x[1]-((2*pi/12)^2)*cos(t[3])*(y[1]),x[4]-2*x[3]+x[2]-((2*pi/12)^2)*cos(t[4])*(y[1]),x[5]-2*x[4]+x[3]-((2*pi/12)^2)*cos(t[5])*(y[1]),x[6]-2*x[5]+x[4]-((2*pi/12)^2)*cos(t[6])*(y[1]),x[7]-2*x[6]+x[5]-((2*pi/12)^2)*cos(t[7])*(y[1]),x[8]-2*x[7]+x[6]-((2*pi/12)^2)*cos(t[8])*(y[1]),x[9]-2*x[8]+x[7]-((2*pi/12)^2)*cos(t[9])*(y[1]),x[10]-2*x[9]+x[8]-((2*pi/12)^2)*cos(t[10])*(y[1]),-2*x[10]+x[9]-((2*pi/12)^2)*cos(t[11])*(y[1])]"
   ]
  },
  {
   "cell_type": "code",
   "execution_count": 12,
   "metadata": {},
   "outputs": [
    {
     "data": {
      "text/plain": [
       "10×10 Array{Float64,2}:\n",
       " -2.0   1.0   0.0   0.0   0.0   0.0   0.0   0.0   0.0   0.0\n",
       "  1.0  -2.0   1.0   0.0   0.0   0.0   0.0   0.0   0.0   0.0\n",
       "  0.0   1.0  -2.0   1.0   0.0   0.0   0.0   0.0   0.0   0.0\n",
       "  0.0   0.0   1.0  -2.0   1.0   0.0   0.0   0.0   0.0   0.0\n",
       "  0.0   0.0   0.0   1.0  -2.0   1.0   0.0   0.0   0.0   0.0\n",
       "  0.0   0.0   0.0   0.0   1.0  -2.0   1.0   0.0   0.0   0.0\n",
       "  0.0   0.0   0.0   0.0   0.0   1.0  -2.0   1.0   0.0   0.0\n",
       "  0.0   0.0   0.0   0.0   0.0   0.0   1.0  -2.0   1.0   0.0\n",
       "  0.0   0.0   0.0   0.0   0.0   0.0   0.0   1.0  -2.0   1.0\n",
       "  0.0   0.0   0.0   0.0   0.0   0.0   0.0   0.0   1.0  -2.0"
      ]
     },
     "execution_count": 12,
     "metadata": {},
     "output_type": "execute_result"
    }
   ],
   "source": [
    "# Calculamos nuestra matriz \n",
    "\n",
    "C = matriz(V,10)"
   ]
  },
  {
   "cell_type": "code",
   "execution_count": 18,
   "metadata": {},
   "outputs": [
    {
     "data": {
      "text/plain": [
       "10-element Array{Float64,1}:\n",
       " -1.07189  \n",
       " -0.113888 \n",
       "  0.0390164\n",
       "  0.179534 \n",
       "  0.26305  \n",
       "  0.26305  \n",
       "  0.179534 \n",
       "  0.0390164\n",
       " -0.113888 \n",
       " -1.07189  "
      ]
     },
     "execution_count": 18,
     "metadata": {},
     "output_type": "execute_result"
    }
   ],
   "source": [
    "i = cond_i(V,10)"
   ]
  },
  {
   "cell_type": "code",
   "execution_count": 19,
   "metadata": {},
   "outputs": [
    {
     "data": {
      "text/plain": [
       "10-element Array{Float64,1}:\n",
       " -0.704176\n",
       " -0.336463\n",
       "  0.145137\n",
       "  0.587721\n",
       "  0.850772\n",
       "  0.850772\n",
       "  0.587721\n",
       "  0.145137\n",
       " -0.336463\n",
       " -0.704176"
      ]
     },
     "execution_count": 19,
     "metadata": {},
     "output_type": "execute_result"
    }
   ],
   "source": [
    "k = -inv(C)*i"
   ]
  },
  {
   "cell_type": "code",
   "execution_count": 20,
   "metadata": {},
   "outputs": [
    {
     "data": {
      "image/png": "[encoded data removed]",
      "text/plain": [
       "PyPlot.Figure(PyObject <matplotlib.figure.Figure object at 0x7faf4b069e90>)"
      ]
     },
     "metadata": {},
     "output_type": "display_data"
    },
    {
     "data": {
      "text/plain": [
       "PyObject <matplotlib.text.Text object at 0x7faf4ea52cd0>"
      ]
     },
     "execution_count": 20,
     "metadata": {},
     "output_type": "execute_result"
    }
   ],
   "source": [
    "for i in 1:10\n",
    "scatter(t[i],k[i])\n",
    "end\n",
    "\n",
    "grid(\"on\")\n",
    "xlabel(\"x\")\n",
    "ylabel(\"f(x)\")"
   ]
  },
  {
   "cell_type": "markdown",
   "metadata": {},
   "source": [
    "__Ejercicio 3:__ Resolver ecuación de calor en una dimensión, en el dominio $[0,1]$, con $f(0)=10$, $f(1)=0$, en una malla con 12 puntos. Aqui obviamente habrá 10 incognitas: $f_1, \\dots, f_{10}$. La condición inicial que deberán usar es $\\vec f^{[0]}=(5,4,3,2,1,3,5,7,7,8)^{\\text{T}}$.\n",
    "* Utilizando método de Euler.\n",
    "* Utilizando Runge-Kutta de orden 4.\n",
    "* Puede hacer este ejercicio construyendo $A$ y $\\vec b$, para así utilizar las rutinas que ya tienen de RK4 y Euler, noten que aqui $A\\vec f +\\vec b$ define la función del sistema dinámico de $n=10$ dimensiones.\n",
    "* La otra opción es implementar una rutina que aplique el laplaciano discreto a $\\vec f$, digamos $\\vec r= D_{h_x}[\\vec f]$, de esta forma es facil construir la función que define el sistema dinámico en cada paso.\n",
    "* Graficar en varios tiempos (no en todos en caso de que hagan una partición grande, solo los primeros tiempos y los últimos)."
   ]
  },
  {
   "cell_type": "markdown",
   "metadata": {},
   "source": [
    "Para resolver esta ecuación, usemos la derivada hacia adelante del tiempo y la segunda derivada central en el espacio. Esto es,\n",
    "\n",
    "$$ \\frac{\\partial}{\\partial t} u(x_i,t_n) = \\frac{u^{n+1}_i - u^n_i}{\\Delta t} $$\n",
    "$$\\frac{\\partial^2}{\\partial x^2} u(x_i,t_n) =\\alpha \\frac{u^{n}_{i+1} -2 u^n_i + u^n_{i-1}}{\\Delta x^2} $$\n",
    "\n",
    "$$ \\Rightarrow \\frac{u^{n+1}_i - u^n_i}{\\Delta t} = \\alpha \\frac{u^{n}_{i+1} -2 u^n_i + u^n_{i-1}}{\\Delta x^2}$$\n",
    "\n",
    "Despejando $u^{n+1}_i$, tenemos que:\n",
    "\n",
    "$$ u^{n+1}_i = u^n_i + \\frac{\\alpha \\Delta t}{\\Delta x^2} (u^{n}_{i+1} -2 u^n_i + u^n_{i-1})$$"
   ]
  },
  {
   "cell_type": "code",
   "execution_count": 21,
   "metadata": {},
   "outputs": [
    {
     "data": {
      "text/plain": [
       "0.09090909090909091"
      ]
     },
     "execution_count": 21,
     "metadata": {},
     "output_type": "execute_result"
    }
   ],
   "source": [
    "# Definimos nuestras particiones de valores en x y t:\n",
    "\n",
    "x1 = linspace(0,1,12)\n",
    "t1 = linspace(0,1,12)\n",
    "\n",
    "hx = x1[2]-x1[1]\n",
    "ht = t1[2]-t1[1]"
   ]
  },
  {
   "cell_type": "code",
   "execution_count": null,
   "metadata": {},
   "outputs": [],
   "source": [
    "K(x) = (1/hx)*[x[1]-2*x[2]+x[3],x[2]-2*x[3]+x[4],x[3]-2*x[4]+x[5],x[4]-2*x[5]+x[6],x[5]-2*x[6]+x[7],x[6]-2*x[7]+x[8],x[7]-2*x[8]+x[9],x[8]-2*x[9]+x[10],x[9]-2*x[10]+x[11]]"
   ]
  },
  {
   "cell_type": "code",
   "execution_count": 22,
   "metadata": {},
   "outputs": [
    {
     "data": {
      "text/plain": [
       "10-element Array{Int64,1}:\n",
       " 5\n",
       " 4\n",
       " 3\n",
       " 2\n",
       " 1\n",
       " 3\n",
       " 5\n",
       " 7\n",
       " 7\n",
       " 8"
      ]
     },
     "execution_count": 22,
     "metadata": {},
     "output_type": "execute_result"
    }
   ],
   "source": [
    "# Definimos nuestro vector con condiciones iniciales x0:\n",
    "\n",
    "x0 = [5,4,3,2,1,3,5,7,7,8]"
   ]
  },
  {
   "cell_type": "code",
   "execution_count": null,
   "metadata": {},
   "outputs": [],
   "source": [
    "# Mandamos a llamar la función del método de Euler para una dimensión arbitraria.\n",
    "\n",
    "function euler(f,list,x0)\n",
    "     x = x0\n",
    "     h = list[2]-list[1]\n",
    "     listx=[]\n",
    "     push!(listx,x)\n",
    "     for i in 2:length(list)\n",
    "        t = i*h\n",
    "        x = x + f(x,t)*h\n",
    "        push!(listx,x) \n",
    "     end\n",
    "     return listx\n",
    "end"
   ]
  },
  {
   "cell_type": "code",
   "execution_count": null,
   "metadata": {},
   "outputs": [],
   "source": [
    "function runge_kutta_4(f,x0,listt)\n",
    "    # Definimos una lista arbitraria sin definir los elementos que va a contener\n",
    "    listx = []\n",
    "    h = listt[2] - listt[1]\n",
    "    \n",
    "    # Condiciones iniciales\n",
    "    x = x0\n",
    "\n",
    "    # Introducimos nuestra condición inicial en nuestra lista:\n",
    "    push!(listx,x)\n",
    "    \n",
    "    # Método de Runge-Kutta de orden 4\n",
    "    for i in 1:length(listt)-1\n",
    "        \n",
    "    k1 = f(x, listt[i])\n",
    "    k2 = f(x + h*(k1)/2, listt[i] + h/2) \n",
    "    k3 = f(x + h*(k2)/2, listt[i] + h/2)\n",
    "    k4 = f(x + h*(k3), listt[i] + h)  \n",
    "        \n",
    "    # Sumamos las aportaciones de ki según el método de Runge-Kutta de orden 4\n",
    "    x = x + h*(k1 + 2*(k2) + 2*(k3) + k4)/6 \n",
    "    \n",
    "    # Guardamos los valores de xi en la lista\n",
    "    push!(listx,x)\n",
    "    end\n",
    "    \n",
    "    return listx\n",
    "end"
   ]
  }
 ],
 "metadata": {
  "kernelspec": {
   "display_name": "Julia 0.5.2",
   "language": "julia",
   "name": "julia-0.5"
  },
  "language_info": {
   "file_extension": ".jl",
   "mimetype": "application/julia",
   "name": "julia",
   "version": "0.5.2"
  }
 },
 "nbformat": 4,
 "nbformat_minor": 2
}
